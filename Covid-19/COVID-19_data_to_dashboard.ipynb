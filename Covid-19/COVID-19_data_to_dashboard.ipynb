{
 "cells": [
  {
   "cell_type": "markdown",
   "id": "invalid-flash",
   "metadata": {},
   "source": [
    "# COVID-19 data to dashboard\n",
    "****\n",
    "\n",
    "In this project I am going to create a dashboard with epidemiology COVID-19 data. The data has been taken from the official UK government website for data and insights on coronavirus (COVID-19).\n",
    "\n",
    "What I want to do is something similar like this:\n",
    "\n",
    "\n",
    "![Image of Yaktocat](https://raw.githubusercontent.com/Manuel-DominguezCBG/SQL2Dashboard/main/Covid-19/screen.jpg)\n",
    "\n",
    "\n",
    "\n",
    "\n",
    "Step 2. Create a dashboard with the SQL created in the previous step."
   ]
  },
  {
   "cell_type": "code",
   "execution_count": null,
   "id": "executed-plenty",
   "metadata": {},
   "outputs": [],
   "source": [
    "import pandas as pd\n",
    "import sqlite3\n",
    "import plotly.express as px\n"
   ]
  },
  {
   "cell_type": "markdown",
   "id": "biblical-sensitivity",
   "metadata": {},
   "source": [
    "## Step 1. Convert the different CSV files into SQL format.\n",
    "\n",
    "Data I am going to use is provided by the UK government website in different CSV files.\n",
    "\n",
    "These are :\n",
    "\n",
    "1. People tested positive\n",
    "2. Deaths wihing 28 days of positive test\n",
    "3. Patient's admitted\n",
    "4. Virus testes conductes \n",
    "5. People vaccinated\n",
    "\n",
    "Let's  Read data from the CSV files"
   ]
  },
  {
   "cell_type": "code",
   "execution_count": null,
   "id": "addressed-frontier",
   "metadata": {},
   "outputs": [],
   "source": [
    "# 1. People tested positive\n",
    "\n",
    "People_teste_positive = pd.read_csv('./People_tested positive.csv')  \n",
    "People_teste_positive.head(3)"
   ]
  },
  {
   "cell_type": "code",
   "execution_count": null,
   "id": "plain-muslim",
   "metadata": {},
   "outputs": [],
   "source": [
    "# 2. Deaths wihing 28 days of positive test\n",
    "\n",
    "\n",
    "Deaths_wihing_28_days = pd.read_csv('./Deaths_within_28_days_of_positive test_by_date_of_death.csv')  \n",
    "\n",
    "print(len(Deaths_wihing_28_days))\n",
    "Deaths_wihing_28_days.head(3)\n"
   ]
  },
  {
   "cell_type": "code",
   "execution_count": null,
   "id": "disturbed-southeast",
   "metadata": {},
   "outputs": [],
   "source": [
    "# 3. Patient's admitted\n",
    "\n",
    "patients_adm = pd.read_csv('./Patients_admitted_to hospital.csv')  \n",
    "\n",
    "patients_adm.head(3)"
   ]
  },
  {
   "cell_type": "code",
   "execution_count": null,
   "id": "pointed-burton",
   "metadata": {},
   "outputs": [],
   "source": [
    "# 4. Virus testes conductes\n",
    "\n",
    "\n",
    "Virus_tested = pd.read_csv('./Virus_tested.csv')  \n",
    "\n",
    "\n",
    "Virus_tested.head(3)"
   ]
  },
  {
   "cell_type": "code",
   "execution_count": null,
   "id": "stunning-kruger",
   "metadata": {},
   "outputs": [],
   "source": [
    "# 5. People vaccinated\n",
    "\n",
    "People_vaccinated = pd.read_csv('./People_vaccinated.csv')  \n",
    "\n",
    "\n",
    "People_vaccinated.head(3)"
   ]
  },
  {
   "cell_type": "markdown",
   "id": "offshore-probe",
   "metadata": {},
   "source": [
    "### Creating sqlite table\n",
    "\n",
    "Create a database connection and cursor to execute queries."
   ]
  },
  {
   "cell_type": "code",
   "execution_count": null,
   "id": "later-program",
   "metadata": {},
   "outputs": [],
   "source": [
    "conn = sqlite3.connect('COVID_19.db')\n",
    "c = conn.cursor()"
   ]
  },
  {
   "cell_type": "code",
   "execution_count": null,
   "id": "sharp-express",
   "metadata": {},
   "outputs": [],
   "source": [
    "c.execute('''DROP TABLE IF EXISTS People_teste_positive''')"
   ]
  },
  {
   "cell_type": "code",
   "execution_count": null,
   "id": "interested-adoption",
   "metadata": {},
   "outputs": [],
   "source": [
    "\n",
    "\n",
    "c.execute(''' CREATE TABLE People_teste_positive (areaType ,areaName ,areaCode ,date ,newCasesBySpecimenDate ,cumCasesBySpecimenDate)''')\n",
    "\n"
   ]
  },
  {
   "cell_type": "markdown",
   "id": "collaborative-diary",
   "metadata": {},
   "source": [
    "### Load CSV file into sqlite table\n",
    "\n",
    "1. People_teste_positive\n"
   ]
  },
  {
   "cell_type": "code",
   "execution_count": null,
   "id": "innovative-breakfast",
   "metadata": {},
   "outputs": [],
   "source": [
    "People_teste_positive.to_sql('People_teste_positive', conn, if_exists='append', index = False)"
   ]
  },
  {
   "cell_type": "code",
   "execution_count": null,
   "id": "smart-sixth",
   "metadata": {},
   "outputs": [],
   "source": [
    "# Fetch all the rows from the users table. Just for checking\n",
    "\n",
    "c.execute('''SELECT * FROM People_teste_positive''').fetchall()"
   ]
  },
  {
   "cell_type": "markdown",
   "id": "expanded-sponsorship",
   "metadata": {},
   "source": [
    "Same operation for the rest of the CSV\n",
    "\n",
    "2. Deaths_wihing_28_days"
   ]
  },
  {
   "cell_type": "code",
   "execution_count": null,
   "id": "closed-spyware",
   "metadata": {},
   "outputs": [],
   "source": [
    "c.execute('''DROP TABLE Deaths_wihing_28_days''')\n",
    "c.execute('''CREATE TABLE Deaths_wihing_28_days (areaType ,areaName ,areaCode ,date ,newDeaths28DaysByDeathDate ,cumDeaths28DaysByDeathDate)''')\n",
    "Deaths_wihing_28_days.to_sql('Deaths_wihing_28_days', conn, if_exists='append', index = False)"
   ]
  },
  {
   "cell_type": "code",
   "execution_count": null,
   "id": "certified-pursuit",
   "metadata": {},
   "outputs": [],
   "source": [
    "c.execute('''SELECT * FROM Deaths_wihing_28_days''').fetchall()"
   ]
  },
  {
   "cell_type": "markdown",
   "id": "million-arrival",
   "metadata": {},
   "source": [
    "3. Patient's admitted"
   ]
  },
  {
   "cell_type": "code",
   "execution_count": null,
   "id": "lined-referral",
   "metadata": {},
   "outputs": [],
   "source": [
    "c.execute('''DROP TABLE IF EXISTS patients_adm''')\n",
    "c.execute('''CREATE TABLE patients_adm ( areaType, areaName, areaCode, date, newAdmissions, cumAdmissions)''')\n",
    "patients_adm.to_sql('patients_adm', conn, if_exists='append', index = False)\n",
    "c.execute('''SELECT * FROM patients_adm''').fetchall()"
   ]
  },
  {
   "cell_type": "markdown",
   "id": "endless-japan",
   "metadata": {},
   "source": [
    "4. Virus testes conductes"
   ]
  },
  {
   "cell_type": "code",
   "execution_count": null,
   "id": "nuclear-helena",
   "metadata": {},
   "outputs": [],
   "source": [
    "c.execute('''DROP TABLE IF EXISTS Virus_tested''')\n",
    "c.execute('''CREATE TABLE Virus_tested ( areaType,areaName,areaCode, date,newVirusTests,cumVirusTests)''')\n",
    "Virus_tested.to_sql('Virus_tested', conn, if_exists='append', index = False)\n",
    "c.execute('''SELECT * FROM Virus_tested''').fetchall()"
   ]
  },
  {
   "cell_type": "markdown",
   "id": "dangerous-superior",
   "metadata": {},
   "source": [
    "5. People vaccinated"
   ]
  },
  {
   "cell_type": "code",
   "execution_count": null,
   "id": "liquid-parade",
   "metadata": {},
   "outputs": [],
   "source": [
    "c.execute('''DROP TABLE IF EXISTS People_vaccinated''')\n",
    "c.execute('''CREATE TABLE People_vaccinated (areaType, areaName,areaCode,date,newPeopleVaccinatedFirstDoseByPublishDate,cumPeopleVaccinatedFirstDoseByPublishDate)''')\n",
    "People_vaccinated.to_sql('People_vaccinated', conn, if_exists='append', index = False)\n",
    "c.execute('''SELECT * FROM People_vaccinated''').fetchall()"
   ]
  },
  {
   "cell_type": "markdown",
   "id": "noble-district",
   "metadata": {},
   "source": [
    "## Now we have a db with different tables created from a few CSV files\n",
    "\n",
    "We will need to plot some data from a database to a dashboard, this can be done after creating a connection and then read a particular table to store in a pandas dataframe.\n",
    "\n"
   ]
  },
  {
   "cell_type": "code",
   "execution_count": null,
   "id": "legal-presentation",
   "metadata": {
    "scrolled": true
   },
   "outputs": [],
   "source": [
    "# Create the connection.\n",
    "cnx = sqlite3.connect('./COVID_19.db')\n",
    "# Let's do this as example with People_vaccinated\n",
    "df = pd.read_sql_query(\"SELECT * FROM People_vaccinated\", cnx)\n",
    "df"
   ]
  },
  {
   "cell_type": "code",
   "execution_count": null,
   "id": "recovered-husband",
   "metadata": {},
   "outputs": [],
   "source": [
    "fig = px.line(df, x=\"date\", y=\"newPeopleVaccinatedFirstDoseByPublishDate\", title='Life expectancy in Canada')\n",
    "fig.show()"
   ]
  },
  {
   "cell_type": "code",
   "execution_count": null,
   "id": "elder-munich",
   "metadata": {},
   "outputs": [],
   "source": [
    "import plotly.express as px\n",
    "from jupyter_dash import JupyterDash\n",
    "import dash_core_components as dcc\n",
    "import dash_html_components as html\n",
    "from dash.dependencies import Input, Output\n",
    "import pandas as pd\n",
    "# Load Data\n",
    "df = px.data.tips()\n",
    "# Build App\n",
    "app = JupyterDash(__name__)\n",
    "external_stylesheets = ['https://codepen.io/chriddyp/pen/bWLwgP.css']\n",
    "\n",
    "\n",
    "# assume you have a \"long-form\" data frame\n",
    "# see https://plotly.com/python/px-arguments/ for more options\n",
    "df = pd.DataFrame({\n",
    "    \"Fruit\": [\"Apples\", \"Oranges\", \"Bananas\", \"Apples\", \"Oranges\", \"Bananas\"],\n",
    "    \"Amount\": [4, 1, 2, 2, 4, 5],\n",
    "    \"City\": [\"SF\", \"SF\", \"SF\", \"Montreal\", \"Montreal\", \"Montreal\"]\n",
    "})\n",
    "\n",
    "fig = px.bar(df, x=\"Fruit\", y=\"Amount\", color=\"City\", barmode=\"group\")\n",
    "\n",
    "app.layout = html.Div(children=[\n",
    "    html.H1(children='Hello Dash'),\n",
    "\n",
    "    html.Div(children='''\n",
    "        Dash: A web application framework for Python.\n",
    "    '''),\n",
    "\n",
    "    dcc.Graph(\n",
    "        id='example-graph',\n",
    "        figure=fig\n",
    "    )\n",
    "])\n",
    "\n",
    "#if __name__ == '__main__':\n",
    " #   app.run_server(debug=True) # Debug=True means that that Dash will automatically refresh your browser when you make a change in your code.\n",
    "\n",
    "\n",
    "# Run app and display result inline or external in the notebook\n",
    "app.run_server(mode='external')"
   ]
  },
  {
   "cell_type": "code",
   "execution_count": null,
   "id": "understanding-joshua",
   "metadata": {},
   "outputs": [],
   "source": [
    "https://stackoverflow.com/questions/63459424/how-to-add-multiple-graphs-to-dash-app-on-a-single-browser-page"
   ]
  },
  {
   "cell_type": "code",
   "execution_count": null,
   "id": "concerned-amendment",
   "metadata": {},
   "outputs": [],
   "source": [
    "external_stylesheets = ['https://codepen.io/chriddyp/pen/bWLwgP.css']\n",
    "\n",
    "app = JupyterDash(__name__)\n",
    "\n",
    "# assume you have a \"long-form\" data frame\n",
    "# see https://plotly.com/python/px-arguments/ for more options\n",
    "df_bar = pd.DataFrame({\n",
    "    \"Fruit\": [\"Apples\", \"Oranges\", \"Bananas\", \"Apples\", \"Oranges\", \"Bananas\"],\n",
    "    \"Amount\": [4, 1, 2, 2, 4, 5],\n",
    "    \"City\": [\"SF\", \"SF\", \"SF\", \"Montreal\", \"Montreal\", \"Montreal\"]\n",
    "})\n",
    "\n",
    "fig = px.bar(df_bar, x=\"Fruit\", y=\"Amount\", color=\"City\", barmode=\"group\")\n",
    "\n",
    "app.layout = html.Div(children=[\n",
    "    # All elements from the top of the page\n",
    "    html.Div([\n",
    "        html.Div([\n",
    "            html.H1(children='Hello Dash'),\n",
    "\n",
    "            html.Div(children='''\n",
    "                Dash: A web application framework for Python.\n",
    "            '''),\n",
    "\n",
    "            dcc.Graph(\n",
    "                id='graph1',\n",
    "                figure=fig\n",
    "            ),  \n",
    "        ], className='six columns'),\n",
    "        html.Div([\n",
    "            html.H1(children='Hello Dash'),\n",
    "\n",
    "            html.Div(children='''\n",
    "                Dash: A web application framework for Python.\n",
    "            '''),\n",
    "\n",
    "            dcc.Graph(\n",
    "                id='graph2',\n",
    "                figure=fig\n",
    "            ),  \n",
    "        ], className='six columns'),\n",
    "    ], className='row'),\n",
    "    # New Div for all elements in the new 'row' of the page\n",
    "    html.Div([\n",
    "        html.H1(children='Hello Dash'),\n",
    "\n",
    "        html.Div(children='''\n",
    "            Dash: A web application framework for Python.\n",
    "        '''),\n",
    "\n",
    "        dcc.Graph(\n",
    "            id='graph3',\n",
    "            figure=fig\n",
    "        ),  \n",
    "    ], className='row'),\n",
    "])\n",
    "\n",
    "if __name__ == '__main__':\n",
    "    app.run_server(debug=True)"
   ]
  },
  {
   "cell_type": "code",
   "execution_count": null,
   "id": "compatible-mailman",
   "metadata": {},
   "outputs": [],
   "source": [
    "https://dash.plotly.com/interactive-graphing"
   ]
  }
 ],
 "metadata": {
  "kernelspec": {
   "display_name": "Python 3",
   "language": "python",
   "name": "python3"
  },
  "language_info": {
   "codemirror_mode": {
    "name": "ipython",
    "version": 3
   },
   "file_extension": ".py",
   "mimetype": "text/x-python",
   "name": "python",
   "nbconvert_exporter": "python",
   "pygments_lexer": "ipython3",
   "version": "3.6.12"
  }
 },
 "nbformat": 4,
 "nbformat_minor": 5
}
