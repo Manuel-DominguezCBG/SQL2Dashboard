{
 "cells": [
  {
   "cell_type": "markdown",
   "metadata": {},
   "source": [
    "https://www.statworx.com/ch/blog/how-to-build-a-dashboard-in-python-plotly-dash-step-by-step-tutorial/"
   ]
  },
  {
   "cell_type": "code",
   "execution_count": null,
   "metadata": {},
   "outputs": [],
   "source": [
    "import pandas as pd\n",
    "import dash\n",
    "import dash_html_components as html\n",
    "\n",
    "# Load data\n",
    "df = pd.read_csv('/home/manuel/Desktop/Manuel_project/SQL project/SQL2Dashboard/Covid-19/tutorial/stockdata2.csv'\n",
    "                 , index_col=0, parse_dates=True)\n",
    "df.index = pd.to_datetime(df['Date'])"
   ]
  },
  {
   "cell_type": "code",
   "execution_count": null,
   "metadata": {},
   "outputs": [],
   "source": [
    "# Initialise the app\n",
    "app = dash.Dash(__name__)\n",
    "\n",
    "# Define the app\n",
    "app.layout = html.Div()\n",
    "# Run the app\n",
    "if __name__ == '__main__':\n",
    "    app.run_server(debug=True)"
   ]
  },
  {
   "cell_type": "code",
   "execution_count": null,
   "metadata": {},
   "outputs": [],
   "source": [
    "app.layout = html.Div(children=[\n",
    "                      html.Div(className='row',  # Define the row element\n",
    "                               children=[\n",
    "                                  html.Div(className='four columns div-user-controls'),  # Define the left element\n",
    "                                  html.Div(className='eight columns div-for-charts bg-grey')  # Define the right element\n",
    "                                  ])\n",
    "                                ])"
   ]
  },
  {
   "cell_type": "code",
   "execution_count": null,
   "metadata": {},
   "outputs": [],
   "source": []
  }
 ],
 "metadata": {
  "kernelspec": {
   "display_name": "Python 3",
   "language": "python",
   "name": "python3"
  },
  "language_info": {
   "codemirror_mode": {
    "name": "ipython",
    "version": 3
   },
   "file_extension": ".py",
   "mimetype": "text/x-python",
   "name": "python",
   "nbconvert_exporter": "python",
   "pygments_lexer": "ipython3",
   "version": "3.8.5"
  }
 },
 "nbformat": 4,
 "nbformat_minor": 4
}
