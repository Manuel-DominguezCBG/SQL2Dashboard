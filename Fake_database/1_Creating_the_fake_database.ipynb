{
 "cells": [
  {
   "cell_type": "markdown",
   "metadata": {},
   "source": [
    "# Creating the fake database\n",
    "****"
   ]
  },
  {
   "cell_type": "markdown",
   "metadata": {},
   "source": [
    "<a id=\"top\"></a>\n",
    "\n",
    "<b>Table of contents</b><br>\n",
    "\n",
    "1. [Creating fake population](#population)\n",
    "2. [Populating the database](#Database)"
   ]
  },
  {
   "cell_type": "markdown",
   "metadata": {},
   "source": [
    "In this notebook I am going to create a few CSV files with fake data. Then I will use this data to create tables in a new database. The grafic representation (schema) of the database I want to create can be seen below.\n",
    "\n",
    "\n",
    "\n",
    "![Image of Yaktocat](https://github.com/Manuel-DominguezCBG/SQL2Dashboard/blob/main/Covid-19/Images/screenshot-aca1dabf.png?raw=true)\n",
    "\n",
    "This database contains 4 interconnected tables. The main table is Patient_data which has basic patient data such as ID, Name, NHS number, gender and so on. In this fake database, this can be the total number of patients of a Trust.\n",
    "The second table is Covid_19_admission. This table has a proportion of patients from the Patient_data table. E columns in this table, the column Patient_admiytted_id linked with Patient_data (id).\n",
    "\n",
    "\n",
    "The third table is Covid_19_deaths what is the number of patients that dye a few random days after being admitted. This table has Patient_admited_id column that links with Covid_19_admission (Patient_admitted_id).\n",
    "\n",
    "The last table is Hospital_features which contained the information of the three hospitals belonging the Trust. The column Hospital_ID of this table links with Covid_19_death (Hospital_ID) and with Covid_19_admission (Hospital_ID)."
   ]
  },
  {
   "cell_type": "markdown",
   "metadata": {},
   "source": [
    "<a id=\"population\"></a>\n",
    "## 1. Creating fake people "
   ]
  },
  {
   "cell_type": "code",
   "execution_count": 1,
   "metadata": {},
   "outputs": [],
   "source": [
    "# Populating Patient_data dataframe\n",
    "# 2000 patients with ID number, Name, NHS number, Age, Gender, Ethnicity and postcode.\n",
    "\n",
    "# Import libraries\n",
    "import pandas as pd\n",
    "from pandas import DataFrame\n",
    "import numpy as np\n",
    "import random\n",
    "import datetime\n",
    "from datetime import timedelta\n",
    "import names                                     # pip install names\n",
    "from faker.providers.person.en import Provider   # pip install faker\n",
    "import sqlite3\n",
    "\n",
    "\n",
    "size = 2000"
   ]
  },
  {
   "cell_type": "code",
   "execution_count": 2,
   "metadata": {},
   "outputs": [],
   "source": [
    "# Let’s create some functions to randomly generate our data \n",
    "\n",
    "def random_id(size):\n",
    "    id_patient = random.sample(range(100000000), size)\n",
    "    return id_patient"
   ]
  },
  {
   "cell_type": "code",
   "execution_count": 3,
   "metadata": {},
   "outputs": [],
   "source": [
    "def random_NHS_number(size):\n",
    "    NHS_numbers = random.sample(range(100000000,999999999),size)\n",
    "    return NHS_numbers"
   ]
  },
  {
   "cell_type": "code",
   "execution_count": 4,
   "metadata": {},
   "outputs": [],
   "source": [
    "def random_names(name_type, size):\n",
    "    \"\"\"\n",
    "    Generate n-length ndarray of person names.\n",
    "    name_type: a string, either first_names or last_names\n",
    "    \"\"\"\n",
    "    names = getattr(Provider, name_type)\n",
    "    return np.random.choice(names, size=size)"
   ]
  },
  {
   "cell_type": "code",
   "execution_count": 5,
   "metadata": {},
   "outputs": [],
   "source": [
    "def random_genders(size, p=None):\n",
    "    \"\"\"Generate n-length ndarray of genders.\"\"\"\n",
    "    if not p:\n",
    "        # Equal probability of gender\n",
    "        p = (0.5, 0.5)\n",
    "    gender = (\"M\", \"F\")\n",
    "    return np.random.choice(gender, size=size, p=p)"
   ]
  },
  {
   "cell_type": "code",
   "execution_count": 6,
   "metadata": {},
   "outputs": [],
   "source": [
    "def random_Ethnicity(size, p=None):\n",
    "    \"\"\"Generate n-length ndarray of genders.\"\"\"\n",
    "    if not p:\n",
    "        # 5 groups with different probability\n",
    "        p = (0.49, 0.10, 0.11, 0.01, 0.29)\n",
    "    Ethnicity = (\"White British\", \"Black British people\", \"British Indians\", \"White Gypsy or Irish Traveller\", \"Other White\")\n",
    "    return np.random.choice(Ethnicity, size=size, p=p)"
   ]
  },
  {
   "cell_type": "code",
   "execution_count": 7,
   "metadata": {},
   "outputs": [],
   "source": [
    "def random_Postcode(size, p=None):\n",
    "    \"\"\"\n",
    "    A real Faker's UK postcode generation can be found here\n",
    "    https://github.com/joke2k/faker/blob/07ca4ede54c26554fdb5c7a4f55432cb0498d338/faker/providers/address/en_GB/__init__.py\n",
    "    However, for this small fake database there is no need to populate it with real UK ppostcode.\n",
    "    Instead of this, only a few fake postcodes are generate manually\"\"\"\n",
    "    if not p:\n",
    "        # 10 postcodes, same p\n",
    "        p = (0.1, 0.1, 0.1, 0.1, 0.1, 0.1, 0.1, 0.1, 0.1,0.1)\n",
    "    Postcode = (\"SO15 5FL\", \"SP01 10MA\", \"BE01 5SA\", \"CB19 5US\", \"SO15 10FL\", \"LO12 8HG\", \"WE1 7YG\", \"SO01 7JH\", \"SP2 8BJ\", \"SP3 8BJ\")\n",
    "    return np.random.choice(Postcode, size=size, p=p)"
   ]
  },
  {
   "cell_type": "code",
   "execution_count": 8,
   "metadata": {},
   "outputs": [],
   "source": [
    "def random_Hospital_names(size, p=None):\n",
    "    \"\"\"\n",
    "    3 Fake hospitals names with similar probability\n",
    "    \"\"\"\n",
    "    if not p:\n",
    "        # 10 postcodes, same p\n",
    "        p = (0.3, 0.3, 0.4)\n",
    "    Hospital_names = (\"Robin Hood Hospital\", \"Alfred Hitchcock Hospital\", \"Chris Martin Hospital\")\n",
    "    return np.random.choice(Hospital_names, size=size, p=p)"
   ]
  },
  {
   "cell_type": "code",
   "execution_count": 9,
   "metadata": {},
   "outputs": [],
   "source": [
    "def random_dates(start, end, size):\n",
    "    \"\"\"\n",
    "    Generate random dates within range between start and end.    \n",
    "    Adapted from: https://stackoverflow.com/a/50668285\n",
    "    \"\"\"\n",
    "    # Unix timestamp is in nanoseconds by default, so divide it by\n",
    "    # 24*60*60*10**9 to convert to days.\n",
    "    divide_by = 24 * 60 * 60 * 10**9\n",
    "    start_u = start.value // divide_by\n",
    "    end_u = end.value // divide_by\n",
    "    return pd.to_datetime(np.random.randint(start_u, end_u, size), unit=\"D\")"
   ]
  },
  {
   "cell_type": "markdown",
   "metadata": {},
   "source": [
    "## patient_data_df"
   ]
  },
  {
   "cell_type": "code",
   "execution_count": 10,
   "metadata": {},
   "outputs": [
    {
     "data": {
      "text/html": [
       "<div>\n",
       "<style scoped>\n",
       "    .dataframe tbody tr th:only-of-type {\n",
       "        vertical-align: middle;\n",
       "    }\n",
       "\n",
       "    .dataframe tbody tr th {\n",
       "        vertical-align: top;\n",
       "    }\n",
       "\n",
       "    .dataframe thead th {\n",
       "        text-align: right;\n",
       "    }\n",
       "</style>\n",
       "<table border=\"1\" class=\"dataframe\">\n",
       "  <thead>\n",
       "    <tr style=\"text-align: right;\">\n",
       "      <th></th>\n",
       "      <th>ID</th>\n",
       "      <th>NHS_Number</th>\n",
       "      <th>Full_Name</th>\n",
       "      <th>Gender</th>\n",
       "      <th>Birthdate</th>\n",
       "      <th>Ethnicity</th>\n",
       "      <th>Postcode</th>\n",
       "    </tr>\n",
       "  </thead>\n",
       "  <tbody>\n",
       "    <tr>\n",
       "      <th>0</th>\n",
       "      <td>15781755</td>\n",
       "      <td>105960965</td>\n",
       "      <td>Kali Torp</td>\n",
       "      <td>F</td>\n",
       "      <td>1912-08-30</td>\n",
       "      <td>Other White</td>\n",
       "      <td>SP01 10MA</td>\n",
       "    </tr>\n",
       "    <tr>\n",
       "      <th>1</th>\n",
       "      <td>7136156</td>\n",
       "      <td>406062239</td>\n",
       "      <td>August Gleason</td>\n",
       "      <td>M</td>\n",
       "      <td>1931-11-02</td>\n",
       "      <td>Other White</td>\n",
       "      <td>LO12 8HG</td>\n",
       "    </tr>\n",
       "    <tr>\n",
       "      <th>2</th>\n",
       "      <td>60290626</td>\n",
       "      <td>816736767</td>\n",
       "      <td>Alek Cummings</td>\n",
       "      <td>F</td>\n",
       "      <td>1912-07-18</td>\n",
       "      <td>White British</td>\n",
       "      <td>CB19 5US</td>\n",
       "    </tr>\n",
       "    <tr>\n",
       "      <th>3</th>\n",
       "      <td>81154589</td>\n",
       "      <td>670345512</td>\n",
       "      <td>Eddie Hoeger</td>\n",
       "      <td>M</td>\n",
       "      <td>1913-12-04</td>\n",
       "      <td>Black British people</td>\n",
       "      <td>BE01 5SA</td>\n",
       "    </tr>\n",
       "    <tr>\n",
       "      <th>4</th>\n",
       "      <td>20158803</td>\n",
       "      <td>745184100</td>\n",
       "      <td>Liddie Labadie</td>\n",
       "      <td>F</td>\n",
       "      <td>1977-12-11</td>\n",
       "      <td>White British</td>\n",
       "      <td>BE01 5SA</td>\n",
       "    </tr>\n",
       "    <tr>\n",
       "      <th>...</th>\n",
       "      <td>...</td>\n",
       "      <td>...</td>\n",
       "      <td>...</td>\n",
       "      <td>...</td>\n",
       "      <td>...</td>\n",
       "      <td>...</td>\n",
       "      <td>...</td>\n",
       "    </tr>\n",
       "    <tr>\n",
       "      <th>1995</th>\n",
       "      <td>50684224</td>\n",
       "      <td>648402228</td>\n",
       "      <td>Hayden Reynolds</td>\n",
       "      <td>F</td>\n",
       "      <td>1984-12-22</td>\n",
       "      <td>White British</td>\n",
       "      <td>SP3 8BJ</td>\n",
       "    </tr>\n",
       "    <tr>\n",
       "      <th>1996</th>\n",
       "      <td>62338213</td>\n",
       "      <td>683158083</td>\n",
       "      <td>Kaeden Prohaska</td>\n",
       "      <td>F</td>\n",
       "      <td>1962-05-01</td>\n",
       "      <td>Other White</td>\n",
       "      <td>WE1 7YG</td>\n",
       "    </tr>\n",
       "    <tr>\n",
       "      <th>1997</th>\n",
       "      <td>39534902</td>\n",
       "      <td>414895118</td>\n",
       "      <td>Ivy Hyatt</td>\n",
       "      <td>F</td>\n",
       "      <td>1944-08-16</td>\n",
       "      <td>Other White</td>\n",
       "      <td>SO01 7JH</td>\n",
       "    </tr>\n",
       "    <tr>\n",
       "      <th>1998</th>\n",
       "      <td>51810561</td>\n",
       "      <td>945866041</td>\n",
       "      <td>Dulce Okuneva</td>\n",
       "      <td>M</td>\n",
       "      <td>1907-02-22</td>\n",
       "      <td>British Indians</td>\n",
       "      <td>SO15 10FL</td>\n",
       "    </tr>\n",
       "    <tr>\n",
       "      <th>1999</th>\n",
       "      <td>56994830</td>\n",
       "      <td>257196531</td>\n",
       "      <td>Jaylene Berge</td>\n",
       "      <td>F</td>\n",
       "      <td>1987-08-20</td>\n",
       "      <td>Other White</td>\n",
       "      <td>SP3 8BJ</td>\n",
       "    </tr>\n",
       "  </tbody>\n",
       "</table>\n",
       "<p>2000 rows × 7 columns</p>\n",
       "</div>"
      ],
      "text/plain": [
       "            ID  NHS_Number        Full_Name Gender  Birthdate  \\\n",
       "0     15781755   105960965        Kali Torp      F 1912-08-30   \n",
       "1      7136156   406062239   August Gleason      M 1931-11-02   \n",
       "2     60290626   816736767    Alek Cummings      F 1912-07-18   \n",
       "3     81154589   670345512     Eddie Hoeger      M 1913-12-04   \n",
       "4     20158803   745184100   Liddie Labadie      F 1977-12-11   \n",
       "...        ...         ...              ...    ...        ...   \n",
       "1995  50684224   648402228  Hayden Reynolds      F 1984-12-22   \n",
       "1996  62338213   683158083  Kaeden Prohaska      F 1962-05-01   \n",
       "1997  39534902   414895118        Ivy Hyatt      F 1944-08-16   \n",
       "1998  51810561   945866041    Dulce Okuneva      M 1907-02-22   \n",
       "1999  56994830   257196531    Jaylene Berge      F 1987-08-20   \n",
       "\n",
       "                 Ethnicity   Postcode  \n",
       "0              Other White  SP01 10MA  \n",
       "1              Other White   LO12 8HG  \n",
       "2            White British   CB19 5US  \n",
       "3     Black British people   BE01 5SA  \n",
       "4            White British   BE01 5SA  \n",
       "...                    ...        ...  \n",
       "1995         White British    SP3 8BJ  \n",
       "1996           Other White    WE1 7YG  \n",
       "1997           Other White   SO01 7JH  \n",
       "1998       British Indians  SO15 10FL  \n",
       "1999           Other White    SP3 8BJ  \n",
       "\n",
       "[2000 rows x 7 columns]"
      ]
     },
     "execution_count": 10,
     "metadata": {},
     "output_type": "execute_result"
    }
   ],
   "source": [
    "# Empty df with headers\n",
    "patients_admitted = pd.DataFrame(columns=['ID', 'NHS_Number','Full_Name','Gender', 'Birthdate', 'Ethnicity', 'Postcode'])\n",
    "\n",
    "# Populate the dataframe with the functions created above.\n",
    "patients_admitted['ID'] = random_id(size) \n",
    "patients_admitted['NHS_Number'] = random_NHS_number(size)\n",
    "patients_admitted['first_names'] = random_names('first_names', size)\n",
    "patients_admitted['last_names'] = random_names('last_names', size)\n",
    "patients_admitted['Full_Name'] = patients_admitted['first_names']  + ' ' + patients_admitted['last_names']\n",
    "del patients_admitted['first_names']\n",
    "del patients_admitted['last_names']\n",
    "patients_admitted['Gender'] = random_genders(size)\n",
    "patients_admitted['Birthdate'] = random_dates(start=pd.to_datetime('1900-01-01'), end=pd.to_datetime('2008-01-01'), \n",
    "                                              size=size)\n",
    "patients_admitted['Ethnicity'] = random_Ethnicity(size)\n",
    "patients_admitted['Postcode'] = random_Postcode(size)\n",
    "patients_admitted"
   ]
  },
  {
   "cell_type": "code",
   "execution_count": 11,
   "metadata": {},
   "outputs": [],
   "source": [
    "# To save this as CSV if neccesary\n",
    "\n",
    "#patients_admitted.to_csv('./patient_data_df.csv')"
   ]
  },
  {
   "cell_type": "markdown",
   "metadata": {},
   "source": [
    "## covid_19_admission_df"
   ]
  },
  {
   "cell_type": "code",
   "execution_count": 12,
   "metadata": {},
   "outputs": [
    {
     "data": {
      "text/html": [
       "<div>\n",
       "<style scoped>\n",
       "    .dataframe tbody tr th:only-of-type {\n",
       "        vertical-align: middle;\n",
       "    }\n",
       "\n",
       "    .dataframe tbody tr th {\n",
       "        vertical-align: top;\n",
       "    }\n",
       "\n",
       "    .dataframe thead th {\n",
       "        text-align: right;\n",
       "    }\n",
       "</style>\n",
       "<table border=\"1\" class=\"dataframe\">\n",
       "  <thead>\n",
       "    <tr style=\"text-align: right;\">\n",
       "      <th></th>\n",
       "      <th>Patient_admitted_id</th>\n",
       "      <th>Date</th>\n",
       "      <th>Hospital_ID</th>\n",
       "    </tr>\n",
       "  </thead>\n",
       "  <tbody>\n",
       "    <tr>\n",
       "      <th>0</th>\n",
       "      <td>37940003</td>\n",
       "      <td>2021-01-28</td>\n",
       "      <td>224323</td>\n",
       "    </tr>\n",
       "    <tr>\n",
       "      <th>1</th>\n",
       "      <td>39572419</td>\n",
       "      <td>2021-01-15</td>\n",
       "      <td>3234234</td>\n",
       "    </tr>\n",
       "    <tr>\n",
       "      <th>2</th>\n",
       "      <td>58742774</td>\n",
       "      <td>2021-01-13</td>\n",
       "      <td>3234234</td>\n",
       "    </tr>\n",
       "    <tr>\n",
       "      <th>3</th>\n",
       "      <td>88354127</td>\n",
       "      <td>2021-01-07</td>\n",
       "      <td>3234234</td>\n",
       "    </tr>\n",
       "    <tr>\n",
       "      <th>4</th>\n",
       "      <td>31306850</td>\n",
       "      <td>2021-01-14</td>\n",
       "      <td>3234234</td>\n",
       "    </tr>\n",
       "    <tr>\n",
       "      <th>...</th>\n",
       "      <td>...</td>\n",
       "      <td>...</td>\n",
       "      <td>...</td>\n",
       "    </tr>\n",
       "    <tr>\n",
       "      <th>95</th>\n",
       "      <td>42744234</td>\n",
       "      <td>2021-01-26</td>\n",
       "      <td>3234234</td>\n",
       "    </tr>\n",
       "    <tr>\n",
       "      <th>96</th>\n",
       "      <td>892154</td>\n",
       "      <td>2021-01-21</td>\n",
       "      <td>3234234</td>\n",
       "    </tr>\n",
       "    <tr>\n",
       "      <th>97</th>\n",
       "      <td>63931210</td>\n",
       "      <td>2021-01-09</td>\n",
       "      <td>214321</td>\n",
       "    </tr>\n",
       "    <tr>\n",
       "      <th>98</th>\n",
       "      <td>58776379</td>\n",
       "      <td>2021-01-30</td>\n",
       "      <td>214321</td>\n",
       "    </tr>\n",
       "    <tr>\n",
       "      <th>99</th>\n",
       "      <td>76692864</td>\n",
       "      <td>2021-01-26</td>\n",
       "      <td>214321</td>\n",
       "    </tr>\n",
       "  </tbody>\n",
       "</table>\n",
       "<p>100 rows × 3 columns</p>\n",
       "</div>"
      ],
      "text/plain": [
       "    Patient_admitted_id       Date  Hospital_ID\n",
       "0              37940003 2021-01-28       224323\n",
       "1              39572419 2021-01-15      3234234\n",
       "2              58742774 2021-01-13      3234234\n",
       "3              88354127 2021-01-07      3234234\n",
       "4              31306850 2021-01-14      3234234\n",
       "..                  ...        ...          ...\n",
       "95             42744234 2021-01-26      3234234\n",
       "96               892154 2021-01-21      3234234\n",
       "97             63931210 2021-01-09       214321\n",
       "98             58776379 2021-01-30       214321\n",
       "99             76692864 2021-01-26       214321\n",
       "\n",
       "[100 rows x 3 columns]"
      ]
     },
     "execution_count": 12,
     "metadata": {},
     "output_type": "execute_result"
    }
   ],
   "source": [
    "# Populating COVID-19 admission dataframe\n",
    "\n",
    "# Empty df\n",
    "covid_19_admission_df = pd.DataFrame(columns=['Patient_admitted_id', 'Date', 'Hospital_ID' ])\n",
    "\n",
    "\n",
    "# Admission of COVID patients in three hospitals of the same TRUST for one month period\n",
    "\n",
    "# Populate the Pt_admited_id with the ID of people from patients_admitted\n",
    "# This table contain the 5% of the patients found in the patient_data_df\n",
    "patients_admitted_length = int(len(patients_admitted)*0.05)\n",
    "ID = patients_admitted['ID'].tolist() # ID to list to select the 5% of the values of the ID column\n",
    "ID2df = (random.choices(ID, k=patients_admitted_length))\n",
    "covid_19_admission_df['Patient_admitted_id'] = ID2df\n",
    "\n",
    "#Date from 1 January 2021 to 31 January 2021\n",
    "covid_19_admission_df['Date'] = random_dates(start=pd.to_datetime('2021-01-01'), \n",
    "                                             end=pd.to_datetime('2021-01-31'), size=patients_admitted_length)\n",
    "\n",
    "\n",
    "\n",
    "# So far, each hospital will get ramdon number of patients\n",
    "\n",
    "The_hospitals_list = [214321,224323,3234234]\n",
    "covid_19_admission_df['Hospital_ID'] = np.random.choice(list(The_hospitals_list), len(covid_19_admission_df))\n",
    "\n",
    "covid_19_admission_df"
   ]
  },
  {
   "cell_type": "code",
   "execution_count": 13,
   "metadata": {},
   "outputs": [],
   "source": [
    "# To save this as CSV\n",
    "#covid_19_admission_df.to_csv('./covid_19_admission_df.csv')"
   ]
  },
  {
   "cell_type": "markdown",
   "metadata": {},
   "source": [
    "## covid_19_death_df\n",
    "\n",
    "Similar that covid_19_admission_df in which a small proportion of the admitted patients died a few days after admission.\n"
   ]
  },
  {
   "cell_type": "code",
   "execution_count": 14,
   "metadata": {},
   "outputs": [
    {
     "data": {
      "text/html": [
       "<div>\n",
       "<style scoped>\n",
       "    .dataframe tbody tr th:only-of-type {\n",
       "        vertical-align: middle;\n",
       "    }\n",
       "\n",
       "    .dataframe tbody tr th {\n",
       "        vertical-align: top;\n",
       "    }\n",
       "\n",
       "    .dataframe thead th {\n",
       "        text-align: right;\n",
       "    }\n",
       "</style>\n",
       "<table border=\"1\" class=\"dataframe\">\n",
       "  <thead>\n",
       "    <tr style=\"text-align: right;\">\n",
       "      <th></th>\n",
       "      <th>Patient_admitted_id</th>\n",
       "      <th>Hospital_ID</th>\n",
       "      <th>Death_dates</th>\n",
       "    </tr>\n",
       "  </thead>\n",
       "  <tbody>\n",
       "    <tr>\n",
       "      <th>0</th>\n",
       "      <td>56222991</td>\n",
       "      <td>224323</td>\n",
       "      <td>2021-02-01</td>\n",
       "    </tr>\n",
       "    <tr>\n",
       "      <th>1</th>\n",
       "      <td>72259608</td>\n",
       "      <td>3234234</td>\n",
       "      <td>2021-01-13</td>\n",
       "    </tr>\n",
       "    <tr>\n",
       "      <th>2</th>\n",
       "      <td>11603667</td>\n",
       "      <td>3234234</td>\n",
       "      <td>2021-01-11</td>\n",
       "    </tr>\n",
       "    <tr>\n",
       "      <th>3</th>\n",
       "      <td>74755234</td>\n",
       "      <td>214321</td>\n",
       "      <td>2021-01-09</td>\n",
       "    </tr>\n",
       "    <tr>\n",
       "      <th>4</th>\n",
       "      <td>63931210</td>\n",
       "      <td>214321</td>\n",
       "      <td>2021-01-12</td>\n",
       "    </tr>\n",
       "  </tbody>\n",
       "</table>\n",
       "</div>"
      ],
      "text/plain": [
       "   Patient_admitted_id  Hospital_ID Death_dates\n",
       "0             56222991       224323  2021-02-01\n",
       "1             72259608      3234234  2021-01-13\n",
       "2             11603667      3234234  2021-01-11\n",
       "3             74755234       214321  2021-01-09\n",
       "4             63931210       214321  2021-01-12"
      ]
     },
     "execution_count": 14,
     "metadata": {},
     "output_type": "execute_result"
    }
   ],
   "source": [
    "\n",
    "# Crete a dict with ID number and date of admission\n",
    "id2date_admission = pd.Series(covid_19_admission_df.Date.values,covid_19_admission_df.Patient_admitted_id.values).to_dict()\n",
    "\n",
    "# Select the 5% of the total number of items  covid_19_admission_df\n",
    "covid_19_admission_length = int(len(covid_19_admission_df)*0.05)\n",
    "\n",
    "# Convert these items in a list\n",
    "#entry_list = list(id2date_admission.items())\n",
    "\n",
    "#Take the 5% of total number of items \n",
    "random_entry = random.sample(list(id2date_admission.items()), k=covid_19_admission_length)\n",
    "\n",
    "# Populate a new df with the patients who are going to die and their date of admission\n",
    "covid_19_death_df = DataFrame (random_entry,columns=['Patient_admitted_id','Date_admission'])\n",
    "\n",
    "# Now, we suppose they will die a few random days later, between the 3rd and the 20th day after admission for example.\n",
    "covid_19_death_df[\"Death_dates\"] = covid_19_death_df[\"Date_admission\"] + timedelta(days=random.randint(3, 20))\n",
    "\n",
    "# we need the hospital where they were admitted and they died\n",
    "covid_19_death_df = covid_19_admission_df.merge(covid_19_death_df, on=\"Patient_admitted_id\")\n",
    "\n",
    "# Some deletion of the columns I dont need\n",
    "covid_19_death_df = covid_19_death_df.drop(['Date',  'Date_admission'], axis = 1)\n",
    "\n",
    "# I dont need the date_admission column\n",
    "#\n",
    "covid_19_death_df\n"
   ]
  },
  {
   "cell_type": "markdown",
   "metadata": {},
   "source": [
    "## Hospital_features_df\n",
    "Some characteristics of the hospitals of this fake database"
   ]
  },
  {
   "cell_type": "code",
   "execution_count": 15,
   "metadata": {},
   "outputs": [
    {
     "data": {
      "text/html": [
       "<div>\n",
       "<style scoped>\n",
       "    .dataframe tbody tr th:only-of-type {\n",
       "        vertical-align: middle;\n",
       "    }\n",
       "\n",
       "    .dataframe tbody tr th {\n",
       "        vertical-align: top;\n",
       "    }\n",
       "\n",
       "    .dataframe thead th {\n",
       "        text-align: right;\n",
       "    }\n",
       "</style>\n",
       "<table border=\"1\" class=\"dataframe\">\n",
       "  <thead>\n",
       "    <tr style=\"text-align: right;\">\n",
       "      <th></th>\n",
       "      <th>Hospital_ID</th>\n",
       "      <th>Hospital_name</th>\n",
       "      <th>Hospital_location</th>\n",
       "      <th>Number_of_beds</th>\n",
       "      <th>Number_of_staff</th>\n",
       "      <th>Number_of_ITU_Beds</th>\n",
       "    </tr>\n",
       "  </thead>\n",
       "  <tbody>\n",
       "    <tr>\n",
       "      <th>0</th>\n",
       "      <td>214321</td>\n",
       "      <td>Chris Martin Hospital</td>\n",
       "      <td>SO15 5FL</td>\n",
       "      <td>100</td>\n",
       "      <td>300</td>\n",
       "      <td>10</td>\n",
       "    </tr>\n",
       "    <tr>\n",
       "      <th>1</th>\n",
       "      <td>224323</td>\n",
       "      <td>Alfred Hitchcock Hospital</td>\n",
       "      <td>BE01 5SA</td>\n",
       "      <td>200</td>\n",
       "      <td>600</td>\n",
       "      <td>20</td>\n",
       "    </tr>\n",
       "    <tr>\n",
       "      <th>2</th>\n",
       "      <td>3234234</td>\n",
       "      <td>Robin Hood Hospital</td>\n",
       "      <td>LO12 8HG</td>\n",
       "      <td>150</td>\n",
       "      <td>400</td>\n",
       "      <td>15</td>\n",
       "    </tr>\n",
       "  </tbody>\n",
       "</table>\n",
       "</div>"
      ],
      "text/plain": [
       "   Hospital_ID              Hospital_name Hospital_location  Number_of_beds  \\\n",
       "0       214321      Chris Martin Hospital          SO15 5FL             100   \n",
       "1       224323  Alfred Hitchcock Hospital          BE01 5SA             200   \n",
       "2      3234234        Robin Hood Hospital          LO12 8HG             150   \n",
       "\n",
       "   Number_of_staff  Number_of_ITU_Beds  \n",
       "0              300                  10  \n",
       "1              600                  20  \n",
       "2              400                  15  "
      ]
     },
     "execution_count": 15,
     "metadata": {},
     "output_type": "execute_result"
    }
   ],
   "source": [
    "data = {'Hospital_ID': [214321,224323,3234234],\n",
    "        'Hospital_name':  ['Chris Martin Hospital', 'Alfred Hitchcock Hospital','Robin Hood Hospital'],\n",
    "        'Hospital_location': ['SO15 5FL', 'BE01 5SA','LO12 8HG'],\n",
    "        'Number_of_beds' : [100,200,150],\n",
    "        'Number_of_staff' : [300,600,400],\n",
    "        'Number_of_ITU_Beds' : [10,20,15]}\n",
    "Hospital_features_df = pd.DataFrame(data, columns=['Hospital_ID','Hospital_name', 'Hospital_location', \n",
    "                                                   'Number_of_beds','Number_of_staff', 'Number_of_ITU_Beds' ])\n",
    "Hospital_features_df"
   ]
  },
  {
   "cell_type": "code",
   "execution_count": 16,
   "metadata": {},
   "outputs": [],
   "source": [
    "#Hospital_features_df.to_csv('./Hospital_features_df.csv')\n"
   ]
  },
  {
   "cell_type": "markdown",
   "metadata": {},
   "source": [
    "<a id=\"Database\"></a>\n",
    "## Once all CSV have been done, we can use them to create the database."
   ]
  },
  {
   "cell_type": "code",
   "execution_count": 17,
   "metadata": {},
   "outputs": [],
   "source": [
    "# Create a database connection and cursor to execute queries.\n",
    "conn = sqlite3.connect('./fake_db.db') # This create an empty database in the current directory\n",
    "c = conn.cursor()"
   ]
  },
  {
   "cell_type": "code",
   "execution_count": 18,
   "metadata": {},
   "outputs": [],
   "source": [
    "#   1. patient_data_df\n",
    "\n",
    "### Add and empty table and load patient_data_df into sql table\n",
    "\n",
    "c.execute('''DROP TABLE IF EXISTS patient_data''')\n",
    "c.execute(''' CREATE TABLE patient_data (ID NOT NULL,\n",
    "NHS_Number,\n",
    "Full_Name,\n",
    "Gender,\n",
    "Birthdate,\n",
    "Ethnicity, \n",
    "Postcode,\n",
    "PRIMARY KEY (ID),\n",
    "FOREIGN KEY (ID) REFERENCES  covid_19_admission (Patient_admitted_id) ON DELETE CASCADE)''')\n",
    "\n",
    "# patient_data[ID] ---> covid_19_admission[Patient_admitted_id]\n",
    "patients_admitted.to_sql('patient_data', conn, if_exists='append', index = False) #LOAD\n",
    "# c.execute('''SELECT * FROM patient_data''').fetchall() "
   ]
  },
  {
   "cell_type": "code",
   "execution_count": 19,
   "metadata": {
    "scrolled": true
   },
   "outputs": [
    {
     "data": {
      "text/plain": [
       "[(37940003, '2021-01-28 00:00:00', 224323),\n",
       " (39572419, '2021-01-15 00:00:00', 3234234),\n",
       " (58742774, '2021-01-13 00:00:00', 3234234),\n",
       " (88354127, '2021-01-07 00:00:00', 3234234),\n",
       " (31306850, '2021-01-14 00:00:00', 3234234),\n",
       " (31871945, '2021-01-27 00:00:00', 3234234),\n",
       " (48495218, '2021-01-02 00:00:00', 3234234),\n",
       " (40362141, '2021-01-05 00:00:00', 214321),\n",
       " (50717649, '2021-01-18 00:00:00', 214321),\n",
       " (24362763, '2021-01-27 00:00:00', 3234234),\n",
       " (73660891, '2021-01-02 00:00:00', 214321),\n",
       " (69571071, '2021-01-11 00:00:00', 214321),\n",
       " (71491289, '2021-01-05 00:00:00', 224323),\n",
       " (33275683, '2021-01-26 00:00:00', 3234234),\n",
       " (83627409, '2021-01-25 00:00:00', 224323),\n",
       " (56222991, '2021-01-29 00:00:00', 224323),\n",
       " (47729103, '2021-01-24 00:00:00', 214321),\n",
       " (43549023, '2021-01-15 00:00:00', 224323),\n",
       " (39534902, '2021-01-25 00:00:00', 214321),\n",
       " (43211766, '2021-01-15 00:00:00', 224323),\n",
       " (8060616, '2021-01-19 00:00:00', 3234234),\n",
       " (94151356, '2021-01-08 00:00:00', 224323),\n",
       " (72259608, '2021-01-10 00:00:00', 3234234),\n",
       " (79409250, '2021-01-27 00:00:00', 3234234),\n",
       " (98964781, '2021-01-22 00:00:00', 214321),\n",
       " (42682764, '2021-01-11 00:00:00', 214321),\n",
       " (14543146, '2021-01-18 00:00:00', 224323),\n",
       " (16701659, '2021-01-15 00:00:00', 3234234),\n",
       " (82963497, '2021-01-04 00:00:00', 3234234),\n",
       " (10874425, '2021-01-11 00:00:00', 224323),\n",
       " (49510129, '2021-01-09 00:00:00', 214321),\n",
       " (23860292, '2021-01-19 00:00:00', 3234234),\n",
       " (10330395, '2021-01-17 00:00:00', 3234234),\n",
       " (2047576, '2021-01-29 00:00:00', 224323),\n",
       " (8617794, '2021-01-01 00:00:00', 224323),\n",
       " (89417696, '2021-01-13 00:00:00', 3234234),\n",
       " (70182192, '2021-01-20 00:00:00', 3234234),\n",
       " (73157019, '2021-01-16 00:00:00', 224323),\n",
       " (69961460, '2021-01-01 00:00:00', 3234234),\n",
       " (588513, '2021-01-30 00:00:00', 3234234),\n",
       " (37246158, '2021-01-08 00:00:00', 214321),\n",
       " (81744905, '2021-01-01 00:00:00', 224323),\n",
       " (29806120, '2021-01-07 00:00:00', 3234234),\n",
       " (96371758, '2021-01-07 00:00:00', 214321),\n",
       " (88521747, '2021-01-01 00:00:00', 224323),\n",
       " (50115886, '2021-01-07 00:00:00', 224323),\n",
       " (30918671, '2021-01-24 00:00:00', 3234234),\n",
       " (60343000, '2021-01-21 00:00:00', 3234234),\n",
       " (9910179, '2021-01-18 00:00:00', 224323),\n",
       " (91231523, '2021-01-08 00:00:00', 3234234),\n",
       " (62121215, '2021-01-11 00:00:00', 224323),\n",
       " (4917259, '2021-01-22 00:00:00', 214321),\n",
       " (13943766, '2021-01-07 00:00:00', 214321),\n",
       " (85497765, '2021-01-26 00:00:00', 224323),\n",
       " (46054945, '2021-01-11 00:00:00', 224323),\n",
       " (29352689, '2021-01-30 00:00:00', 214321),\n",
       " (11603667, '2021-01-08 00:00:00', 3234234),\n",
       " (74755234, '2021-01-06 00:00:00', 214321),\n",
       " (8479553, '2021-01-20 00:00:00', 214321),\n",
       " (12545055, '2021-01-09 00:00:00', 224323),\n",
       " (3740339, '2021-01-04 00:00:00', 3234234),\n",
       " (94009739, '2021-01-05 00:00:00', 214321),\n",
       " (17068209, '2021-01-09 00:00:00', 214321),\n",
       " (56367343, '2021-01-08 00:00:00', 214321),\n",
       " (2958037, '2021-01-07 00:00:00', 214321),\n",
       " (15408535, '2021-01-04 00:00:00', 3234234),\n",
       " (83374681, '2021-01-03 00:00:00', 224323),\n",
       " (98675601, '2021-01-19 00:00:00', 214321),\n",
       " (77636216, '2021-01-03 00:00:00', 214321),\n",
       " (25166829, '2021-01-30 00:00:00', 3234234),\n",
       " (95133996, '2021-01-26 00:00:00', 3234234),\n",
       " (88422462, '2021-01-13 00:00:00', 3234234),\n",
       " (77211864, '2021-01-30 00:00:00', 214321),\n",
       " (3648036, '2021-01-30 00:00:00', 224323),\n",
       " (16874326, '2021-01-21 00:00:00', 3234234),\n",
       " (17191001, '2021-01-22 00:00:00', 3234234),\n",
       " (20876041, '2021-01-15 00:00:00', 224323),\n",
       " (81337433, '2021-01-14 00:00:00', 3234234),\n",
       " (75182045, '2021-01-13 00:00:00', 224323),\n",
       " (41800725, '2021-01-21 00:00:00', 214321),\n",
       " (52082778, '2021-01-23 00:00:00', 224323),\n",
       " (94660888, '2021-01-09 00:00:00', 224323),\n",
       " (41801440, '2021-01-17 00:00:00', 214321),\n",
       " (72239279, '2021-01-06 00:00:00', 3234234),\n",
       " (80414619, '2021-01-22 00:00:00', 224323),\n",
       " (59825639, '2021-01-12 00:00:00', 224323),\n",
       " (28630329, '2021-01-01 00:00:00', 214321),\n",
       " (91039211, '2021-01-09 00:00:00', 224323),\n",
       " (82318536, '2021-01-04 00:00:00', 214321),\n",
       " (60614852, '2021-01-10 00:00:00', 224323),\n",
       " (53899579, '2021-01-30 00:00:00', 214321),\n",
       " (16903579, '2021-01-01 00:00:00', 224323),\n",
       " (37360013, '2021-01-24 00:00:00', 214321),\n",
       " (68462605, '2021-01-15 00:00:00', 3234234),\n",
       " (65098865, '2021-01-27 00:00:00', 214321),\n",
       " (42744234, '2021-01-26 00:00:00', 3234234),\n",
       " (892154, '2021-01-21 00:00:00', 3234234),\n",
       " (63931210, '2021-01-09 00:00:00', 214321),\n",
       " (58776379, '2021-01-30 00:00:00', 214321),\n",
       " (76692864, '2021-01-26 00:00:00', 214321)]"
      ]
     },
     "execution_count": 19,
     "metadata": {},
     "output_type": "execute_result"
    }
   ],
   "source": [
    "#   2. covid_19_admission_df\n",
    "\n",
    "c.execute('''DROP TABLE IF EXISTS covid_19_admission''')\n",
    "c.execute(''' CREATE TABLE covid_19_admission (Patient_admitted_id NOT NULL,\n",
    "Date,\n",
    "Hospital_ID,\n",
    "PRIMARY KEY (Patient_admitted_id),\n",
    "FOREIGN KEY (Hospital_ID) REFERENCES  Hospital_features (Hospital_ID) ON DELETE CASCADE,\n",
    "FOREIGN KEY (Patient_admitted_id) REFERENCES covid_19_death (Patient_admitted_id) ON DELETE CASCADE)''')\n",
    "covid_19_admission_df.to_sql('covid_19_admission', conn, if_exists='append', index = False)\n",
    "c.execute('''SELECT * FROM covid_19_admission''').fetchall()"
   ]
  },
  {
   "cell_type": "code",
   "execution_count": 20,
   "metadata": {},
   "outputs": [
    {
     "data": {
      "text/plain": [
       "[(56222991, 224323, '2021-02-01 00:00:00'),\n",
       " (72259608, 3234234, '2021-01-13 00:00:00'),\n",
       " (11603667, 3234234, '2021-01-11 00:00:00'),\n",
       " (74755234, 214321, '2021-01-09 00:00:00'),\n",
       " (63931210, 214321, '2021-01-12 00:00:00')]"
      ]
     },
     "execution_count": 20,
     "metadata": {},
     "output_type": "execute_result"
    }
   ],
   "source": [
    "#   3. covid_19_death_df\n",
    "\n",
    "c.execute('''DROP TABLE IF EXISTS covid_19_death''')\n",
    "c.execute(''' CREATE TABLE covid_19_death (Patient_admitted_id NOT NULL,\n",
    "Hospital_ID,\n",
    "Death_dates,\n",
    "PRIMARY KEY (Patient_admitted_id),\n",
    "FOREIGN KEY (Hospital_ID) REFERENCES  Hospital_features (Hospital_ID) ON DELETE CASCADE)''')\n",
    "covid_19_death_df.to_sql('covid_19_death', conn, if_exists='append', index = False)\n",
    "c.execute('''SELECT * FROM covid_19_death''').fetchall()"
   ]
  },
  {
   "cell_type": "code",
   "execution_count": 21,
   "metadata": {},
   "outputs": [
    {
     "data": {
      "text/plain": [
       "[(214321, 'Chris Martin Hospital', 'SO15 5FL', 100, 300, 10),\n",
       " (224323, 'Alfred Hitchcock Hospital', 'BE01 5SA', 200, 600, 20),\n",
       " (3234234, 'Robin Hood Hospital', 'LO12 8HG', 150, 400, 15)]"
      ]
     },
     "execution_count": 21,
     "metadata": {},
     "output_type": "execute_result"
    }
   ],
   "source": [
    "#   4. Hospital_features_df\n",
    "\n",
    "c.execute('''DROP TABLE IF EXISTS Hospital_features''')\n",
    "c.execute(''' CREATE TABLE Hospital_features ( Hospital_ID NOT NULL PRIMARY KEY,\n",
    "Hospital_name,\n",
    "Hospital_location,\n",
    "Number_of_beds number (3),\n",
    "Number_of_staff number (3),\n",
    "Number_of_ITU_Beds number (3))''')\n",
    "Hospital_features_df.to_sql('Hospital_features', conn, if_exists='append', index = False)\n",
    "c.execute('''SELECT * FROM Hospital_features''').fetchall()"
   ]
  },
  {
   "cell_type": "markdown",
   "metadata": {},
   "source": [
    "## Database created. "
   ]
  },
  {
   "cell_type": "code",
   "execution_count": 22,
   "metadata": {},
   "outputs": [
    {
     "data": {
      "text/plain": [
       "[(0, 'ID', '', 1, None, 1),\n",
       " (1, 'NHS_Number', '', 0, None, 0),\n",
       " (2, 'Full_Name', '', 0, None, 0),\n",
       " (3, 'Gender', '', 0, None, 0),\n",
       " (4, 'Birthdate', '', 0, None, 0),\n",
       " (5, 'Ethnicity', '', 0, None, 0),\n",
       " (6, 'Postcode', '', 0, None, 0)]"
      ]
     },
     "execution_count": 22,
     "metadata": {},
     "output_type": "execute_result"
    }
   ],
   "source": [
    "# Let's ensure everything is ok.\n",
    "# The encoding pragma controls how strings are encoded and stored in a database file.\n",
    "c.execute(\"PRAGMA table_info(patient_data);\").fetchall()\n",
    "# id \tname \ttype \tnotnull \tdflt_value \tpk"
   ]
  },
  {
   "cell_type": "code",
   "execution_count": 23,
   "metadata": {},
   "outputs": [
    {
     "data": {
      "text/plain": [
       "[(0, 'Patient_admitted_id', '', 1, None, 1),\n",
       " (1, 'Date', '', 0, None, 0),\n",
       " (2, 'Hospital_ID', '', 0, None, 0)]"
      ]
     },
     "execution_count": 23,
     "metadata": {},
     "output_type": "execute_result"
    }
   ],
   "source": [
    "c.execute(\"PRAGMA table_info(covid_19_admission);\").fetchall()"
   ]
  },
  {
   "cell_type": "code",
   "execution_count": 24,
   "metadata": {},
   "outputs": [
    {
     "data": {
      "text/plain": [
       "[(0, 'Patient_admitted_id', '', 1, None, 1),\n",
       " (1, 'Hospital_ID', '', 0, None, 0),\n",
       " (2, 'Death_dates', '', 0, None, 0)]"
      ]
     },
     "execution_count": 24,
     "metadata": {},
     "output_type": "execute_result"
    }
   ],
   "source": [
    "c.execute(\"PRAGMA table_info(covid_19_death);\").fetchall()"
   ]
  },
  {
   "cell_type": "code",
   "execution_count": 25,
   "metadata": {},
   "outputs": [
    {
     "data": {
      "text/plain": [
       "[(0, 'Hospital_ID', '', 1, None, 1),\n",
       " (1, 'Hospital_name', '', 0, None, 0),\n",
       " (2, 'Hospital_location', '', 0, None, 0),\n",
       " (3, 'Number_of_beds', 'number (3)', 0, None, 0),\n",
       " (4, 'Number_of_staff', 'number (3)', 0, None, 0),\n",
       " (5, 'Number_of_ITU_Beds', 'number (3)', 0, None, 0)]"
      ]
     },
     "execution_count": 25,
     "metadata": {},
     "output_type": "execute_result"
    }
   ],
   "source": [
    "c.execute(\"PRAGMA table_info(Hospital_features);\").fetchall()"
   ]
  },
  {
   "cell_type": "markdown",
   "metadata": {},
   "source": [
    "### Notebook details\n",
    "<br>\n",
    "<i>Notebook created by <strong>Manuel Dominguez</strong> \n",
    "\n",
    "Creation date: May 2021<br>\n"
   ]
  },
  {
   "cell_type": "code",
   "execution_count": null,
   "metadata": {},
   "outputs": [],
   "source": []
  },
  {
   "cell_type": "code",
   "execution_count": null,
   "metadata": {},
   "outputs": [],
   "source": []
  },
  {
   "cell_type": "markdown",
   "metadata": {},
   "source": [
    "Code to create the sheme in Database schema "
   ]
  },
  {
   "cell_type": "markdown",
   "metadata": {},
   "source": [
    "//// -- Tables and References\n",
    "\n",
    "// Creating tables\n",
    "Table Patient_data {\n",
    "  id int [pk, increment] // auto-increment\n",
    "  Full_name varchar\n",
    "  NHS_number int\n",
    "  Birthdate int\n",
    "  Gender varchar\n",
    "  Ethnicity varchar\n",
    "  Postcode varchar\n",
    "}\n",
    "\n",
    "Table Covid_19_admission {\n",
    "  Patients_admitted_id int [ref: > Patient_data.id]  // inline relationship (many-to-one)\n",
    "  Date_adm int\n",
    "  Hospital_ID varchar [ref: > Hospital_features.Hospital_ID]\n",
    "  Indexes {\n",
    "    (Patients_admitted_id) [pk]\n",
    "  }\n",
    "}\n",
    "\n",
    "\n",
    "\n",
    "Table Hospital_features {\n",
    " Hospital_ID varchar\n",
    " Hospital_name varchar \n",
    " Hospital_location varchar\n",
    " Number_of_beds varchar\n",
    " Number_of_ITU_beds varchar\n",
    " \n",
    "\n",
    "}\n",
    "\n",
    "\n",
    "\n",
    "Table covid_19_death {\n",
    " Patients_admitted_id  int [ref: > Covid_19_admission.Patients_admitted_id]\n",
    " Hospital_ID varchar [ref: > Hospital_features.Hospital_ID]\n",
    " Death_dates varchar \n",
    " Indexes {\n",
    "    (Patients_admitted_id) [pk]\n",
    "  }\n",
    " \n",
    "\n",
    "}"
   ]
  },
  {
   "cell_type": "code",
   "execution_count": 28,
   "metadata": {},
   "outputs": [
    {
     "data": {
      "text/html": [
       "<div>\n",
       "<style scoped>\n",
       "    .dataframe tbody tr th:only-of-type {\n",
       "        vertical-align: middle;\n",
       "    }\n",
       "\n",
       "    .dataframe tbody tr th {\n",
       "        vertical-align: top;\n",
       "    }\n",
       "\n",
       "    .dataframe thead th {\n",
       "        text-align: right;\n",
       "    }\n",
       "</style>\n",
       "<table border=\"1\" class=\"dataframe\">\n",
       "  <thead>\n",
       "    <tr style=\"text-align: right;\">\n",
       "      <th></th>\n",
       "      <th>Patient_admitted_id</th>\n",
       "      <th>Date</th>\n",
       "      <th>Hospital_ID</th>\n",
       "    </tr>\n",
       "  </thead>\n",
       "  <tbody>\n",
       "    <tr>\n",
       "      <th>0</th>\n",
       "      <td>37940003</td>\n",
       "      <td>2021-01-28 00:00:00</td>\n",
       "      <td>224323</td>\n",
       "    </tr>\n",
       "    <tr>\n",
       "      <th>1</th>\n",
       "      <td>39572419</td>\n",
       "      <td>2021-01-15 00:00:00</td>\n",
       "      <td>3234234</td>\n",
       "    </tr>\n",
       "    <tr>\n",
       "      <th>2</th>\n",
       "      <td>58742774</td>\n",
       "      <td>2021-01-13 00:00:00</td>\n",
       "      <td>3234234</td>\n",
       "    </tr>\n",
       "    <tr>\n",
       "      <th>3</th>\n",
       "      <td>88354127</td>\n",
       "      <td>2021-01-07 00:00:00</td>\n",
       "      <td>3234234</td>\n",
       "    </tr>\n",
       "    <tr>\n",
       "      <th>4</th>\n",
       "      <td>31306850</td>\n",
       "      <td>2021-01-14 00:00:00</td>\n",
       "      <td>3234234</td>\n",
       "    </tr>\n",
       "    <tr>\n",
       "      <th>...</th>\n",
       "      <td>...</td>\n",
       "      <td>...</td>\n",
       "      <td>...</td>\n",
       "    </tr>\n",
       "    <tr>\n",
       "      <th>95</th>\n",
       "      <td>42744234</td>\n",
       "      <td>2021-01-26 00:00:00</td>\n",
       "      <td>3234234</td>\n",
       "    </tr>\n",
       "    <tr>\n",
       "      <th>96</th>\n",
       "      <td>892154</td>\n",
       "      <td>2021-01-21 00:00:00</td>\n",
       "      <td>3234234</td>\n",
       "    </tr>\n",
       "    <tr>\n",
       "      <th>97</th>\n",
       "      <td>63931210</td>\n",
       "      <td>2021-01-09 00:00:00</td>\n",
       "      <td>214321</td>\n",
       "    </tr>\n",
       "    <tr>\n",
       "      <th>98</th>\n",
       "      <td>58776379</td>\n",
       "      <td>2021-01-30 00:00:00</td>\n",
       "      <td>214321</td>\n",
       "    </tr>\n",
       "    <tr>\n",
       "      <th>99</th>\n",
       "      <td>76692864</td>\n",
       "      <td>2021-01-26 00:00:00</td>\n",
       "      <td>214321</td>\n",
       "    </tr>\n",
       "  </tbody>\n",
       "</table>\n",
       "<p>100 rows × 3 columns</p>\n",
       "</div>"
      ],
      "text/plain": [
       "    Patient_admitted_id                 Date  Hospital_ID\n",
       "0              37940003  2021-01-28 00:00:00       224323\n",
       "1              39572419  2021-01-15 00:00:00      3234234\n",
       "2              58742774  2021-01-13 00:00:00      3234234\n",
       "3              88354127  2021-01-07 00:00:00      3234234\n",
       "4              31306850  2021-01-14 00:00:00      3234234\n",
       "..                  ...                  ...          ...\n",
       "95             42744234  2021-01-26 00:00:00      3234234\n",
       "96               892154  2021-01-21 00:00:00      3234234\n",
       "97             63931210  2021-01-09 00:00:00       214321\n",
       "98             58776379  2021-01-30 00:00:00       214321\n",
       "99             76692864  2021-01-26 00:00:00       214321\n",
       "\n",
       "[100 rows x 3 columns]"
      ]
     },
     "execution_count": 28,
     "metadata": {},
     "output_type": "execute_result"
    }
   ],
   "source": [
    "covid_19_admission = pd.read_sql_query(\"SELECT * FROM covid_19_admission\", conn)\n",
    "covid_19_admission"
   ]
  },
  {
   "cell_type": "code",
   "execution_count": null,
   "metadata": {},
   "outputs": [],
   "source": []
  }
 ],
 "metadata": {
  "kernelspec": {
   "display_name": "Python 3",
   "language": "python",
   "name": "python3"
  },
  "language_info": {
   "codemirror_mode": {
    "name": "ipython",
    "version": 3
   },
   "file_extension": ".py",
   "mimetype": "text/x-python",
   "name": "python",
   "nbconvert_exporter": "python",
   "pygments_lexer": "ipython3",
   "version": "3.8.5"
  }
 },
 "nbformat": 4,
 "nbformat_minor": 5
}
