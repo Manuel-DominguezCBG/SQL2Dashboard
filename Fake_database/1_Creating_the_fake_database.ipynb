{
 "cells": [
  {
   "cell_type": "markdown",
   "metadata": {},
   "source": [
    "# Creating the fake database\n",
    "****"
   ]
  },
  {
   "cell_type": "markdown",
   "metadata": {},
   "source": [
    "<a id=\"top\"></a>\n",
    "\n",
    "<b>Table of contents</b><br>\n",
    "\n",
    "1. [Creating fake population](#population)\n",
    "2. [Populating the database](#Database)"
   ]
  },
  {
   "cell_type": "markdown",
   "metadata": {},
   "source": [
    "In this notebook I am going to create a few CSV files with fake data. Then I will use this data to create tables in a new database. The grafic representation (schema) of the database I want to create can be seen below.\n",
    "\n",
    "\n",
    "\n",
    "![Image of Yaktocat](https://github.com/Manuel-DominguezCBG/SQL2Dashboard/blob/main/Covid-19/Images/screenshot-aca1dabf.png?raw=true)\n",
    "\n",
    "This database contains 4 interconnected tables. The main table is Patient_data which has basic patient data such as ID, Name, NHS number, gender and so on. In this fake database, this can be the total number of patients of a Trust.\n",
    "The second table is Covid_19_admission. This table has a proportion of patients from the Patient_data table. E columns in this table, the column Patient_admiytted_id linked with Patient_data (id).\n",
    "\n",
    "\n",
    "The third table is Covid_19_deaths what is the number of patients that dye a few random days after being admitted. This table has Patient_admited_id column that links with Covid_19_admission (Patient_admitted_id).\n",
    "\n",
    "The last table is Hospital_features which contained the information of the three hospitals belonging the Trust. The column Hospital_ID of this table links with Covid_19_death (Hospital_ID) and with Covid_19_admission (Hospital_ID)."
   ]
  },
  {
   "cell_type": "markdown",
   "metadata": {},
   "source": [
    "<a id=\"population\"></a>\n",
    "## 1. Creating fake people "
   ]
  },
  {
   "cell_type": "code",
   "execution_count": 1,
   "metadata": {},
   "outputs": [],
   "source": [
    "# Populating Patient_data dataframe\n",
    "# 2000 patients with ID number, Name, NHS number, Age, Gender, Ethnicity and postcode.\n",
    "\n",
    "# Import libraries\n",
    "import pandas as pd\n",
    "from pandas import DataFrame\n",
    "import numpy as np\n",
    "import random\n",
    "import datetime\n",
    "from datetime import timedelta\n",
    "import names                                     # pip install names\n",
    "from faker.providers.person.en import Provider   # pip install faker\n",
    "import sqlite3\n",
    "\n",
    "\n",
    "size = 2000"
   ]
  },
  {
   "cell_type": "code",
   "execution_count": 2,
   "metadata": {},
   "outputs": [],
   "source": [
    "# Let’s create some functions to randomly generate our data \n",
    "\n",
    "def random_id(size):\n",
    "    id_patient = random.sample(range(100000000), size)\n",
    "    return id_patient"
   ]
  },
  {
   "cell_type": "code",
   "execution_count": 3,
   "metadata": {},
   "outputs": [],
   "source": [
    "def random_NHS_number(size):\n",
    "    NHS_numbers = random.sample(range(100000000,999999999),size)\n",
    "    return NHS_numbers"
   ]
  },
  {
   "cell_type": "code",
   "execution_count": 4,
   "metadata": {},
   "outputs": [],
   "source": [
    "def random_names(name_type, size):\n",
    "    \"\"\"\n",
    "    Generate n-length ndarray of person names.\n",
    "    name_type: a string, either first_names or last_names\n",
    "    \"\"\"\n",
    "    names = getattr(Provider, name_type)\n",
    "    return np.random.choice(names, size=size)"
   ]
  },
  {
   "cell_type": "code",
   "execution_count": 5,
   "metadata": {},
   "outputs": [],
   "source": [
    "def random_genders(size, p=None):\n",
    "    \"\"\"Generate n-length ndarray of genders.\"\"\"\n",
    "    if not p:\n",
    "        # Equal probability of gender\n",
    "        p = (0.5, 0.5)\n",
    "    gender = (\"M\", \"F\")\n",
    "    return np.random.choice(gender, size=size, p=p)"
   ]
  },
  {
   "cell_type": "code",
   "execution_count": 6,
   "metadata": {},
   "outputs": [],
   "source": [
    "def random_Ethnicity(size, p=None):\n",
    "    \"\"\"Generate n-length ndarray of genders.\"\"\"\n",
    "    if not p:\n",
    "        # 5 groups with different probability\n",
    "        p = (0.49, 0.10, 0.11, 0.01, 0.29)\n",
    "    Ethnicity = (\"White British\", \"Black British people\", \"British Indians\", \"White Gypsy or Irish Traveller\", \"Other White\")\n",
    "    return np.random.choice(Ethnicity, size=size, p=p)"
   ]
  },
  {
   "cell_type": "code",
   "execution_count": 7,
   "metadata": {},
   "outputs": [],
   "source": [
    "def random_Postcode(size, p=None):\n",
    "    \"\"\"\n",
    "    A real Faker's UK postcode generation can be found here\n",
    "    https://github.com/joke2k/faker/blob/07ca4ede54c26554fdb5c7a4f55432cb0498d338/faker/providers/address/en_GB/__init__.py\n",
    "    However, for this small fake database there is no need to populate it with real UK ppostcode.\n",
    "    Instead of this, only a few fake postcodes are generate manually\"\"\"\n",
    "    if not p:\n",
    "        # 10 postcodes, same p\n",
    "        p = (0.1, 0.1, 0.1, 0.1, 0.1, 0.1, 0.1, 0.1, 0.1,0.1)\n",
    "    Postcode = (\"SO15 5FL\", \"SP01 10MA\", \"BE01 5SA\", \"CB19 5US\", \"SO15 10FL\", \"LO12 8HG\", \"WE1 7YG\", \"SO01 7JH\", \"SP2 8BJ\", \"SP3 8BJ\")\n",
    "    return np.random.choice(Postcode, size=size, p=p)"
   ]
  },
  {
   "cell_type": "code",
   "execution_count": 8,
   "metadata": {},
   "outputs": [],
   "source": [
    "def random_Hospital_names(size, p=None):\n",
    "    \"\"\"\n",
    "    3 Fake hospitals names with similar probability\n",
    "    \"\"\"\n",
    "    if not p:\n",
    "        # 10 postcodes, same p\n",
    "        p = (0.3, 0.3, 0.4)\n",
    "    Hospital_names = (\"Robin Hood Hospital\", \"Alfred Hitchcock Hospital\", \"Chris Martin Hospital\")\n",
    "    return np.random.choice(Hospital_names, size=size, p=p)"
   ]
  },
  {
   "cell_type": "code",
   "execution_count": 9,
   "metadata": {},
   "outputs": [],
   "source": [
    "def random_dates(start, end, size):\n",
    "    \"\"\"\n",
    "    Generate random dates within range between start and end.    \n",
    "    Adapted from: https://stackoverflow.com/a/50668285\n",
    "    \"\"\"\n",
    "    # Unix timestamp is in nanoseconds by default, so divide it by\n",
    "    # 24*60*60*10**9 to convert to days.\n",
    "    divide_by = 24 * 60 * 60 * 10**9\n",
    "    start_u = start.value // divide_by\n",
    "    end_u = end.value // divide_by\n",
    "    return pd.to_datetime(np.random.randint(start_u, end_u, size), unit=\"D\")"
   ]
  },
  {
   "cell_type": "markdown",
   "metadata": {},
   "source": [
    "## patient_data_df"
   ]
  },
  {
   "cell_type": "code",
   "execution_count": 10,
   "metadata": {},
   "outputs": [
    {
     "data": {
      "text/html": [
       "<div>\n",
       "<style scoped>\n",
       "    .dataframe tbody tr th:only-of-type {\n",
       "        vertical-align: middle;\n",
       "    }\n",
       "\n",
       "    .dataframe tbody tr th {\n",
       "        vertical-align: top;\n",
       "    }\n",
       "\n",
       "    .dataframe thead th {\n",
       "        text-align: right;\n",
       "    }\n",
       "</style>\n",
       "<table border=\"1\" class=\"dataframe\">\n",
       "  <thead>\n",
       "    <tr style=\"text-align: right;\">\n",
       "      <th></th>\n",
       "      <th>ID</th>\n",
       "      <th>NHS_Number</th>\n",
       "      <th>Full_Name</th>\n",
       "      <th>Gender</th>\n",
       "      <th>Birthdate</th>\n",
       "      <th>Ethnicity</th>\n",
       "      <th>Postcode</th>\n",
       "    </tr>\n",
       "  </thead>\n",
       "  <tbody>\n",
       "    <tr>\n",
       "      <th>0</th>\n",
       "      <td>27245368</td>\n",
       "      <td>519558788</td>\n",
       "      <td>Katie Ritchie</td>\n",
       "      <td>M</td>\n",
       "      <td>1961-05-21</td>\n",
       "      <td>Other White</td>\n",
       "      <td>BE01 5SA</td>\n",
       "    </tr>\n",
       "    <tr>\n",
       "      <th>1</th>\n",
       "      <td>65086462</td>\n",
       "      <td>538463016</td>\n",
       "      <td>Roni Metz</td>\n",
       "      <td>F</td>\n",
       "      <td>1994-07-23</td>\n",
       "      <td>British Indians</td>\n",
       "      <td>SP2 8BJ</td>\n",
       "    </tr>\n",
       "    <tr>\n",
       "      <th>2</th>\n",
       "      <td>34365831</td>\n",
       "      <td>789672048</td>\n",
       "      <td>Emogene Watsica</td>\n",
       "      <td>F</td>\n",
       "      <td>1956-11-01</td>\n",
       "      <td>Other White</td>\n",
       "      <td>LO12 8HG</td>\n",
       "    </tr>\n",
       "    <tr>\n",
       "      <th>3</th>\n",
       "      <td>77547229</td>\n",
       "      <td>608805634</td>\n",
       "      <td>Bobby Koss</td>\n",
       "      <td>M</td>\n",
       "      <td>1949-12-31</td>\n",
       "      <td>Black British people</td>\n",
       "      <td>SP3 8BJ</td>\n",
       "    </tr>\n",
       "    <tr>\n",
       "      <th>4</th>\n",
       "      <td>83511962</td>\n",
       "      <td>235386145</td>\n",
       "      <td>Julianna Grant</td>\n",
       "      <td>F</td>\n",
       "      <td>1975-06-19</td>\n",
       "      <td>Other White</td>\n",
       "      <td>BE01 5SA</td>\n",
       "    </tr>\n",
       "    <tr>\n",
       "      <th>...</th>\n",
       "      <td>...</td>\n",
       "      <td>...</td>\n",
       "      <td>...</td>\n",
       "      <td>...</td>\n",
       "      <td>...</td>\n",
       "      <td>...</td>\n",
       "      <td>...</td>\n",
       "    </tr>\n",
       "    <tr>\n",
       "      <th>1995</th>\n",
       "      <td>92774425</td>\n",
       "      <td>360732448</td>\n",
       "      <td>Lauri Wolff</td>\n",
       "      <td>F</td>\n",
       "      <td>2003-10-01</td>\n",
       "      <td>White British</td>\n",
       "      <td>CB19 5US</td>\n",
       "    </tr>\n",
       "    <tr>\n",
       "      <th>1996</th>\n",
       "      <td>99291151</td>\n",
       "      <td>127940084</td>\n",
       "      <td>Mary Bailey</td>\n",
       "      <td>F</td>\n",
       "      <td>1961-03-27</td>\n",
       "      <td>White British</td>\n",
       "      <td>SP3 8BJ</td>\n",
       "    </tr>\n",
       "    <tr>\n",
       "      <th>1997</th>\n",
       "      <td>90582505</td>\n",
       "      <td>925578302</td>\n",
       "      <td>Rylee Bashirian</td>\n",
       "      <td>F</td>\n",
       "      <td>1983-02-11</td>\n",
       "      <td>White British</td>\n",
       "      <td>SP3 8BJ</td>\n",
       "    </tr>\n",
       "    <tr>\n",
       "      <th>1998</th>\n",
       "      <td>22443824</td>\n",
       "      <td>871354647</td>\n",
       "      <td>Willia Padberg</td>\n",
       "      <td>F</td>\n",
       "      <td>2005-05-24</td>\n",
       "      <td>Other White</td>\n",
       "      <td>CB19 5US</td>\n",
       "    </tr>\n",
       "    <tr>\n",
       "      <th>1999</th>\n",
       "      <td>5496324</td>\n",
       "      <td>557089882</td>\n",
       "      <td>Charlene DuBuque</td>\n",
       "      <td>F</td>\n",
       "      <td>1963-05-31</td>\n",
       "      <td>White British</td>\n",
       "      <td>SO15 5FL</td>\n",
       "    </tr>\n",
       "  </tbody>\n",
       "</table>\n",
       "<p>2000 rows × 7 columns</p>\n",
       "</div>"
      ],
      "text/plain": [
       "            ID  NHS_Number         Full_Name Gender  Birthdate  \\\n",
       "0     27245368   519558788     Katie Ritchie      M 1961-05-21   \n",
       "1     65086462   538463016         Roni Metz      F 1994-07-23   \n",
       "2     34365831   789672048   Emogene Watsica      F 1956-11-01   \n",
       "3     77547229   608805634        Bobby Koss      M 1949-12-31   \n",
       "4     83511962   235386145    Julianna Grant      F 1975-06-19   \n",
       "...        ...         ...               ...    ...        ...   \n",
       "1995  92774425   360732448       Lauri Wolff      F 2003-10-01   \n",
       "1996  99291151   127940084       Mary Bailey      F 1961-03-27   \n",
       "1997  90582505   925578302   Rylee Bashirian      F 1983-02-11   \n",
       "1998  22443824   871354647    Willia Padberg      F 2005-05-24   \n",
       "1999   5496324   557089882  Charlene DuBuque      F 1963-05-31   \n",
       "\n",
       "                 Ethnicity  Postcode  \n",
       "0              Other White  BE01 5SA  \n",
       "1          British Indians   SP2 8BJ  \n",
       "2              Other White  LO12 8HG  \n",
       "3     Black British people   SP3 8BJ  \n",
       "4              Other White  BE01 5SA  \n",
       "...                    ...       ...  \n",
       "1995         White British  CB19 5US  \n",
       "1996         White British   SP3 8BJ  \n",
       "1997         White British   SP3 8BJ  \n",
       "1998           Other White  CB19 5US  \n",
       "1999         White British  SO15 5FL  \n",
       "\n",
       "[2000 rows x 7 columns]"
      ]
     },
     "execution_count": 10,
     "metadata": {},
     "output_type": "execute_result"
    }
   ],
   "source": [
    "# Empty df with headers\n",
    "patients_admitted = pd.DataFrame(columns=['ID', 'NHS_Number','Full_Name','Gender', 'Birthdate', 'Ethnicity', 'Postcode'])\n",
    "\n",
    "# Populate the dataframe with the functions created above.\n",
    "patients_admitted['ID'] = random_id(size) \n",
    "patients_admitted['NHS_Number'] = random_NHS_number(size)\n",
    "patients_admitted['first_names'] = random_names('first_names', size)\n",
    "patients_admitted['last_names'] = random_names('last_names', size)\n",
    "patients_admitted['Full_Name'] = patients_admitted['first_names']  + ' ' + patients_admitted['last_names']\n",
    "del patients_admitted['first_names']\n",
    "del patients_admitted['last_names']\n",
    "patients_admitted['Gender'] = random_genders(size)\n",
    "patients_admitted['Birthdate'] = random_dates(start=pd.to_datetime('1936-01-01'), end=pd.to_datetime('2019-01-01'), \n",
    "                                              size=size)\n",
    "patients_admitted['Ethnicity'] = random_Ethnicity(size)\n",
    "patients_admitted['Postcode'] = random_Postcode(size)\n",
    "patients_admitted"
   ]
  },
  {
   "cell_type": "code",
   "execution_count": 11,
   "metadata": {},
   "outputs": [],
   "source": [
    "# To save this as CSV if neccesary\n",
    "\n",
    "#patients_admitted.to_csv('./patient_data_df.csv')"
   ]
  },
  {
   "cell_type": "markdown",
   "metadata": {},
   "source": [
    "## covid_19_admission_df"
   ]
  },
  {
   "cell_type": "code",
   "execution_count": 12,
   "metadata": {},
   "outputs": [
    {
     "data": {
      "text/html": [
       "<div>\n",
       "<style scoped>\n",
       "    .dataframe tbody tr th:only-of-type {\n",
       "        vertical-align: middle;\n",
       "    }\n",
       "\n",
       "    .dataframe tbody tr th {\n",
       "        vertical-align: top;\n",
       "    }\n",
       "\n",
       "    .dataframe thead th {\n",
       "        text-align: right;\n",
       "    }\n",
       "</style>\n",
       "<table border=\"1\" class=\"dataframe\">\n",
       "  <thead>\n",
       "    <tr style=\"text-align: right;\">\n",
       "      <th></th>\n",
       "      <th>Patient_admitted_id</th>\n",
       "      <th>Date</th>\n",
       "      <th>Hospital_ID</th>\n",
       "      <th>Discharge_date</th>\n",
       "    </tr>\n",
       "  </thead>\n",
       "  <tbody>\n",
       "    <tr>\n",
       "      <th>0</th>\n",
       "      <td>79190137</td>\n",
       "      <td>2021-01-24</td>\n",
       "      <td>224323</td>\n",
       "      <td>2021-02-24</td>\n",
       "    </tr>\n",
       "    <tr>\n",
       "      <th>1</th>\n",
       "      <td>74805379</td>\n",
       "      <td>2021-01-04</td>\n",
       "      <td>3234234</td>\n",
       "      <td>2021-01-30</td>\n",
       "    </tr>\n",
       "    <tr>\n",
       "      <th>2</th>\n",
       "      <td>97545829</td>\n",
       "      <td>2021-01-13</td>\n",
       "      <td>224323</td>\n",
       "      <td>2021-03-02</td>\n",
       "    </tr>\n",
       "    <tr>\n",
       "      <th>3</th>\n",
       "      <td>19424542</td>\n",
       "      <td>2021-01-07</td>\n",
       "      <td>3234234</td>\n",
       "      <td>2021-01-28</td>\n",
       "    </tr>\n",
       "    <tr>\n",
       "      <th>4</th>\n",
       "      <td>11887183</td>\n",
       "      <td>2021-01-15</td>\n",
       "      <td>3234234</td>\n",
       "      <td>2021-02-12</td>\n",
       "    </tr>\n",
       "    <tr>\n",
       "      <th>...</th>\n",
       "      <td>...</td>\n",
       "      <td>...</td>\n",
       "      <td>...</td>\n",
       "      <td>...</td>\n",
       "    </tr>\n",
       "    <tr>\n",
       "      <th>95</th>\n",
       "      <td>34232401</td>\n",
       "      <td>2021-01-09</td>\n",
       "      <td>214321</td>\n",
       "      <td>2021-01-19</td>\n",
       "    </tr>\n",
       "    <tr>\n",
       "      <th>96</th>\n",
       "      <td>19636962</td>\n",
       "      <td>2021-01-27</td>\n",
       "      <td>224323</td>\n",
       "      <td>2021-02-24</td>\n",
       "    </tr>\n",
       "    <tr>\n",
       "      <th>97</th>\n",
       "      <td>98912873</td>\n",
       "      <td>2021-01-21</td>\n",
       "      <td>214321</td>\n",
       "      <td>2021-01-27</td>\n",
       "    </tr>\n",
       "    <tr>\n",
       "      <th>98</th>\n",
       "      <td>94547712</td>\n",
       "      <td>2021-01-27</td>\n",
       "      <td>3234234</td>\n",
       "      <td>2021-02-16</td>\n",
       "    </tr>\n",
       "    <tr>\n",
       "      <th>99</th>\n",
       "      <td>73494342</td>\n",
       "      <td>2021-01-25</td>\n",
       "      <td>214321</td>\n",
       "      <td>2021-02-22</td>\n",
       "    </tr>\n",
       "  </tbody>\n",
       "</table>\n",
       "<p>100 rows × 4 columns</p>\n",
       "</div>"
      ],
      "text/plain": [
       "    Patient_admitted_id       Date  Hospital_ID Discharge_date\n",
       "0              79190137 2021-01-24       224323     2021-02-24\n",
       "1              74805379 2021-01-04      3234234     2021-01-30\n",
       "2              97545829 2021-01-13       224323     2021-03-02\n",
       "3              19424542 2021-01-07      3234234     2021-01-28\n",
       "4              11887183 2021-01-15      3234234     2021-02-12\n",
       "..                  ...        ...          ...            ...\n",
       "95             34232401 2021-01-09       214321     2021-01-19\n",
       "96             19636962 2021-01-27       224323     2021-02-24\n",
       "97             98912873 2021-01-21       214321     2021-01-27\n",
       "98             94547712 2021-01-27      3234234     2021-02-16\n",
       "99             73494342 2021-01-25       214321     2021-02-22\n",
       "\n",
       "[100 rows x 4 columns]"
      ]
     },
     "execution_count": 12,
     "metadata": {},
     "output_type": "execute_result"
    }
   ],
   "source": [
    "# Populating COVID-19 admission dataframe\n",
    "\n",
    "# Empty df\n",
    "covid_19_admission_df = pd.DataFrame(columns=['Patient_admitted_id', 'Date', 'Hospital_ID' ])\n",
    "\n",
    "\n",
    "# Admission of COVID patients in three hospitals of the same TRUST for one month period\n",
    "\n",
    "# Populate the Pt_admited_id with the ID of people from patients_admitted\n",
    "# This table contain the 5% of the patients found in the patient_data_df\n",
    "patients_admitted_length = int(len(patients_admitted)*0.05)\n",
    "ID = patients_admitted['ID'].tolist() # ID to list to select the 5% of the values of the ID column\n",
    "ID2df = (random.choices(ID, k=patients_admitted_length))\n",
    "covid_19_admission_df['Patient_admitted_id'] = ID2df\n",
    "\n",
    "#Date from 1 January 2021 to 31 January 2021\n",
    "covid_19_admission_df['Date'] = random_dates(start=pd.to_datetime('2021-01-01'), \n",
    "                                             end=pd.to_datetime('2021-01-31'), size=patients_admitted_length)\n",
    "\n",
    "# Discharge dates is created by generating random dates and adding to the date of admission\n",
    "dates = np.random.randint(3,50,len(covid_19_admission_df)).astype('timedelta64[D]')\n",
    "covid_19_admission_df[\"Discharge_date\"] = covid_19_admission_df['Date'] + dates\n",
    "\n",
    "# So far, each hospital will get ramdon number of patients\n",
    "\n",
    "The_hospitals_list = [214321,224323,3234234]\n",
    "covid_19_admission_df['Hospital_ID'] = np.random.choice(list(The_hospitals_list), len(covid_19_admission_df))\n",
    "\n",
    "covid_19_admission_df"
   ]
  },
  {
   "cell_type": "code",
   "execution_count": 13,
   "metadata": {},
   "outputs": [],
   "source": [
    "# To save this as CSV\n",
    "#covid_19_admission_df.to_csv('./covid_19_admission_df.csv')"
   ]
  },
  {
   "cell_type": "markdown",
   "metadata": {},
   "source": [
    "## covid_19_death_df\n",
    "\n",
    "Similar that covid_19_admission_df in which a small proportion of the admitted patients died a few days after admission.\n"
   ]
  },
  {
   "cell_type": "code",
   "execution_count": 14,
   "metadata": {},
   "outputs": [
    {
     "data": {
      "text/html": [
       "<div>\n",
       "<style scoped>\n",
       "    .dataframe tbody tr th:only-of-type {\n",
       "        vertical-align: middle;\n",
       "    }\n",
       "\n",
       "    .dataframe tbody tr th {\n",
       "        vertical-align: top;\n",
       "    }\n",
       "\n",
       "    .dataframe thead th {\n",
       "        text-align: right;\n",
       "    }\n",
       "</style>\n",
       "<table border=\"1\" class=\"dataframe\">\n",
       "  <thead>\n",
       "    <tr style=\"text-align: right;\">\n",
       "      <th></th>\n",
       "      <th>Patient_admitted_id</th>\n",
       "      <th>Hospital_ID</th>\n",
       "      <th>Death_dates</th>\n",
       "    </tr>\n",
       "  </thead>\n",
       "  <tbody>\n",
       "    <tr>\n",
       "      <th>0</th>\n",
       "      <td>7801186</td>\n",
       "      <td>224323</td>\n",
       "      <td>2021-01-27</td>\n",
       "    </tr>\n",
       "    <tr>\n",
       "      <th>1</th>\n",
       "      <td>23388134</td>\n",
       "      <td>214321</td>\n",
       "      <td>2021-01-22</td>\n",
       "    </tr>\n",
       "    <tr>\n",
       "      <th>2</th>\n",
       "      <td>1122679</td>\n",
       "      <td>224323</td>\n",
       "      <td>2021-02-08</td>\n",
       "    </tr>\n",
       "    <tr>\n",
       "      <th>3</th>\n",
       "      <td>3487440</td>\n",
       "      <td>224323</td>\n",
       "      <td>2021-01-23</td>\n",
       "    </tr>\n",
       "    <tr>\n",
       "      <th>4</th>\n",
       "      <td>17823475</td>\n",
       "      <td>3234234</td>\n",
       "      <td>2021-01-29</td>\n",
       "    </tr>\n",
       "  </tbody>\n",
       "</table>\n",
       "</div>"
      ],
      "text/plain": [
       "   Patient_admitted_id  Hospital_ID Death_dates\n",
       "0              7801186       224323  2021-01-27\n",
       "1             23388134       214321  2021-01-22\n",
       "2              1122679       224323  2021-02-08\n",
       "3              3487440       224323  2021-01-23\n",
       "4             17823475      3234234  2021-01-29"
      ]
     },
     "execution_count": 14,
     "metadata": {},
     "output_type": "execute_result"
    }
   ],
   "source": [
    "\n",
    "# Crete a dict with ID number and date of admission\n",
    "id2date_admission = pd.Series(covid_19_admission_df.Date.values,covid_19_admission_df.Patient_admitted_id.values).to_dict()\n",
    "\n",
    "# Select the 5% of the total number of items  covid_19_admission_df\n",
    "covid_19_admission_length = int(len(covid_19_admission_df)*0.05)\n",
    "\n",
    "\n",
    "#Take the 5% of total number of items \n",
    "random_entry = random.sample(list(id2date_admission.items()), k=covid_19_admission_length)\n",
    "\n",
    "# Populate a new df with the patients who are going to die and their date of admission\n",
    "covid_19_death_df = DataFrame (random_entry,columns=['Patient_admitted_id','Date_admission'])\n",
    "\n",
    "# Now, we suppose they will die a few random days later, between the 3rd and the 20th day after admission for example.\n",
    "covid_19_death_df[\"Death_dates\"] = covid_19_death_df[\"Date_admission\"] + timedelta(days=random.randint(3, 20))\n",
    "\n",
    "# we need the hospital where they were admitted and they died\n",
    "covid_19_death_df = covid_19_admission_df.merge(covid_19_death_df, on=\"Patient_admitted_id\")\n",
    "\n",
    "# Some deletion of the columns I dont need\n",
    "covid_19_death_df = covid_19_death_df.drop(['Date',  'Date_admission','Discharge_date' ], axis = 1)\n",
    "\n",
    "# I dont need the date_admission column\n",
    "#\n",
    "covid_19_death_df\n"
   ]
  },
  {
   "cell_type": "markdown",
   "metadata": {},
   "source": [
    "## Hospital_features_df\n",
    "Some characteristics of the hospitals of this fake database"
   ]
  },
  {
   "cell_type": "code",
   "execution_count": 15,
   "metadata": {},
   "outputs": [
    {
     "data": {
      "text/html": [
       "<div>\n",
       "<style scoped>\n",
       "    .dataframe tbody tr th:only-of-type {\n",
       "        vertical-align: middle;\n",
       "    }\n",
       "\n",
       "    .dataframe tbody tr th {\n",
       "        vertical-align: top;\n",
       "    }\n",
       "\n",
       "    .dataframe thead th {\n",
       "        text-align: right;\n",
       "    }\n",
       "</style>\n",
       "<table border=\"1\" class=\"dataframe\">\n",
       "  <thead>\n",
       "    <tr style=\"text-align: right;\">\n",
       "      <th></th>\n",
       "      <th>Hospital_ID</th>\n",
       "      <th>Hospital_name</th>\n",
       "      <th>Hospital_location</th>\n",
       "      <th>Number_of_beds</th>\n",
       "      <th>Number_of_staff</th>\n",
       "      <th>Number_of_ITU_Beds</th>\n",
       "    </tr>\n",
       "  </thead>\n",
       "  <tbody>\n",
       "    <tr>\n",
       "      <th>0</th>\n",
       "      <td>214321</td>\n",
       "      <td>Chris Martin Hospital</td>\n",
       "      <td>SO15 5FL</td>\n",
       "      <td>100</td>\n",
       "      <td>300</td>\n",
       "      <td>10</td>\n",
       "    </tr>\n",
       "    <tr>\n",
       "      <th>1</th>\n",
       "      <td>224323</td>\n",
       "      <td>Alfred Hitchcock Hospital</td>\n",
       "      <td>BE01 5SA</td>\n",
       "      <td>200</td>\n",
       "      <td>600</td>\n",
       "      <td>20</td>\n",
       "    </tr>\n",
       "    <tr>\n",
       "      <th>2</th>\n",
       "      <td>3234234</td>\n",
       "      <td>Robin Hood Hospital</td>\n",
       "      <td>LO12 8HG</td>\n",
       "      <td>150</td>\n",
       "      <td>400</td>\n",
       "      <td>15</td>\n",
       "    </tr>\n",
       "  </tbody>\n",
       "</table>\n",
       "</div>"
      ],
      "text/plain": [
       "   Hospital_ID              Hospital_name Hospital_location  Number_of_beds  \\\n",
       "0       214321      Chris Martin Hospital          SO15 5FL             100   \n",
       "1       224323  Alfred Hitchcock Hospital          BE01 5SA             200   \n",
       "2      3234234        Robin Hood Hospital          LO12 8HG             150   \n",
       "\n",
       "   Number_of_staff  Number_of_ITU_Beds  \n",
       "0              300                  10  \n",
       "1              600                  20  \n",
       "2              400                  15  "
      ]
     },
     "execution_count": 15,
     "metadata": {},
     "output_type": "execute_result"
    }
   ],
   "source": [
    "data = {'Hospital_ID': [214321,224323,3234234],\n",
    "        'Hospital_name':  ['Chris Martin Hospital', 'Alfred Hitchcock Hospital','Robin Hood Hospital'],\n",
    "        'Hospital_location': ['SO15 5FL', 'BE01 5SA','LO12 8HG'],\n",
    "        'Number_of_beds' : [100,200,150],\n",
    "        'Number_of_staff' : [300,600,400],\n",
    "        'Number_of_ITU_Beds' : [10,20,15]}\n",
    "Hospital_features_df = pd.DataFrame(data, columns=['Hospital_ID','Hospital_name', 'Hospital_location', \n",
    "                                                   'Number_of_beds','Number_of_staff', 'Number_of_ITU_Beds' ])\n",
    "Hospital_features_df"
   ]
  },
  {
   "cell_type": "code",
   "execution_count": 16,
   "metadata": {},
   "outputs": [],
   "source": [
    "#Hospital_features_df.to_csv('./Hospital_features_df.csv')\n"
   ]
  },
  {
   "cell_type": "markdown",
   "metadata": {},
   "source": [
    "<a id=\"Database\"></a>\n",
    "## Once all CSV have been done, we can use them to create the database."
   ]
  },
  {
   "cell_type": "code",
   "execution_count": 17,
   "metadata": {},
   "outputs": [],
   "source": [
    "# Create a database connection and cursor to execute queries.\n",
    "conn = sqlite3.connect('./fake_db.db') # This create an empty database in the current directory\n",
    "c = conn.cursor()"
   ]
  },
  {
   "cell_type": "code",
   "execution_count": 18,
   "metadata": {},
   "outputs": [],
   "source": [
    "#   1. patient_data_df\n",
    "\n",
    "### Add and empty table and load patient_data_df into sql table\n",
    "\n",
    "c.execute('''DROP TABLE IF EXISTS patient_data''')\n",
    "c.execute(''' CREATE TABLE patient_data (ID NOT NULL,\n",
    "NHS_Number,\n",
    "Full_Name,\n",
    "Gender,\n",
    "Birthdate,\n",
    "Ethnicity, \n",
    "Postcode,\n",
    "PRIMARY KEY (ID),\n",
    "FOREIGN KEY (ID) REFERENCES  covid_19_admission (Patient_admitted_id) ON DELETE CASCADE)''')\n",
    "\n",
    "# patient_data[ID] ---> covid_19_admission[Patient_admitted_id]\n",
    "patients_admitted.to_sql('patient_data', conn, if_exists='append', index = False) #LOAD\n",
    "# c.execute('''SELECT * FROM patient_data''').fetchall() "
   ]
  },
  {
   "cell_type": "code",
   "execution_count": 19,
   "metadata": {
    "scrolled": true
   },
   "outputs": [
    {
     "data": {
      "text/plain": [
       "[(79190137, '2021-01-24 00:00:00', 224323, '2021-02-24 00:00:00'),\n",
       " (74805379, '2021-01-04 00:00:00', 3234234, '2021-01-30 00:00:00'),\n",
       " (97545829, '2021-01-13 00:00:00', 224323, '2021-03-02 00:00:00'),\n",
       " (19424542, '2021-01-07 00:00:00', 3234234, '2021-01-28 00:00:00'),\n",
       " (11887183, '2021-01-15 00:00:00', 3234234, '2021-02-12 00:00:00'),\n",
       " (75977689, '2021-01-03 00:00:00', 3234234, '2021-01-10 00:00:00'),\n",
       " (37469270, '2021-01-02 00:00:00', 3234234, '2021-02-02 00:00:00'),\n",
       " (85757512, '2021-01-13 00:00:00', 224323, '2021-01-24 00:00:00'),\n",
       " (24831765, '2021-01-02 00:00:00', 3234234, '2021-01-23 00:00:00'),\n",
       " (35427668, '2021-01-11 00:00:00', 224323, '2021-02-28 00:00:00'),\n",
       " (23470097, '2021-01-25 00:00:00', 214321, '2021-02-15 00:00:00'),\n",
       " (49682250, '2021-01-24 00:00:00', 3234234, '2021-02-24 00:00:00'),\n",
       " (86600851, '2021-01-15 00:00:00', 224323, '2021-01-27 00:00:00'),\n",
       " (22082063, '2021-01-08 00:00:00', 224323, '2021-01-15 00:00:00'),\n",
       " (12205971, '2021-01-06 00:00:00', 224323, '2021-02-01 00:00:00'),\n",
       " (1922305, '2021-01-05 00:00:00', 3234234, '2021-01-10 00:00:00'),\n",
       " (88636541, '2021-01-28 00:00:00', 224323, '2021-03-14 00:00:00'),\n",
       " (67681044, '2021-01-24 00:00:00', 3234234, '2021-02-28 00:00:00'),\n",
       " (83719987, '2021-01-06 00:00:00', 214321, '2021-01-29 00:00:00'),\n",
       " (53972483, '2021-01-30 00:00:00', 214321, '2021-03-06 00:00:00'),\n",
       " (7801186, '2021-01-09 00:00:00', 224323, '2021-02-21 00:00:00'),\n",
       " (70392446, '2021-01-23 00:00:00', 224323, '2021-02-27 00:00:00'),\n",
       " (89346883, '2021-01-04 00:00:00', 214321, '2021-02-13 00:00:00'),\n",
       " (43278285, '2021-01-07 00:00:00', 214321, '2021-01-20 00:00:00'),\n",
       " (78950227, '2021-01-12 00:00:00', 224323, '2021-02-22 00:00:00'),\n",
       " (65330366, '2021-01-05 00:00:00', 224323, '2021-02-18 00:00:00'),\n",
       " (79173332, '2021-01-01 00:00:00', 224323, '2021-01-04 00:00:00'),\n",
       " (23388134, '2021-01-04 00:00:00', 214321, '2021-01-31 00:00:00'),\n",
       " (6227030, '2021-01-01 00:00:00', 224323, '2021-02-15 00:00:00'),\n",
       " (57416855, '2021-01-11 00:00:00', 224323, '2021-02-23 00:00:00'),\n",
       " (7936752, '2021-01-18 00:00:00', 224323, '2021-01-26 00:00:00'),\n",
       " (73202420, '2021-01-29 00:00:00', 3234234, '2021-02-01 00:00:00'),\n",
       " (1122679, '2021-01-21 00:00:00', 224323, '2021-02-24 00:00:00'),\n",
       " (95266052, '2021-01-02 00:00:00', 214321, '2021-02-10 00:00:00'),\n",
       " (48430454, '2021-01-03 00:00:00', 3234234, '2021-02-13 00:00:00'),\n",
       " (85566592, '2021-01-30 00:00:00', 224323, '2021-03-18 00:00:00'),\n",
       " (56272315, '2021-01-17 00:00:00', 224323, '2021-03-01 00:00:00'),\n",
       " (83938746, '2021-01-17 00:00:00', 214321, '2021-02-07 00:00:00'),\n",
       " (93955960, '2021-01-22 00:00:00', 214321, '2021-02-24 00:00:00'),\n",
       " (52232317, '2021-01-13 00:00:00', 224323, '2021-02-22 00:00:00'),\n",
       " (71080844, '2021-01-22 00:00:00', 214321, '2021-02-24 00:00:00'),\n",
       " (18585842, '2021-01-17 00:00:00', 3234234, '2021-02-09 00:00:00'),\n",
       " (16137023, '2021-01-12 00:00:00', 214321, '2021-02-12 00:00:00'),\n",
       " (18585842, '2021-01-11 00:00:00', 214321, '2021-02-13 00:00:00'),\n",
       " (18196406, '2021-01-17 00:00:00', 3234234, '2021-02-09 00:00:00'),\n",
       " (87763382, '2021-01-13 00:00:00', 3234234, '2021-01-23 00:00:00'),\n",
       " (65217881, '2021-01-05 00:00:00', 3234234, '2021-01-08 00:00:00'),\n",
       " (16067759, '2021-01-01 00:00:00', 224323, '2021-02-14 00:00:00'),\n",
       " (70858676, '2021-01-19 00:00:00', 224323, '2021-02-02 00:00:00'),\n",
       " (80756213, '2021-01-08 00:00:00', 3234234, '2021-02-08 00:00:00'),\n",
       " (20125261, '2021-01-07 00:00:00', 214321, '2021-02-07 00:00:00'),\n",
       " (23977736, '2021-01-06 00:00:00', 224323, '2021-02-16 00:00:00'),\n",
       " (33505812, '2021-01-12 00:00:00', 224323, '2021-01-30 00:00:00'),\n",
       " (88379644, '2021-01-15 00:00:00', 224323, '2021-02-17 00:00:00'),\n",
       " (25620936, '2021-01-08 00:00:00', 224323, '2021-01-25 00:00:00'),\n",
       " (48490110, '2021-01-22 00:00:00', 214321, '2021-02-05 00:00:00'),\n",
       " (51761734, '2021-01-28 00:00:00', 214321, '2021-02-04 00:00:00'),\n",
       " (40823828, '2021-01-02 00:00:00', 214321, '2021-01-30 00:00:00'),\n",
       " (61226729, '2021-01-10 00:00:00', 214321, '2021-02-27 00:00:00'),\n",
       " (90389025, '2021-01-04 00:00:00', 3234234, '2021-02-09 00:00:00'),\n",
       " (19880676, '2021-01-05 00:00:00', 214321, '2021-02-02 00:00:00'),\n",
       " (75521227, '2021-01-13 00:00:00', 214321, '2021-02-24 00:00:00'),\n",
       " (13082069, '2021-01-15 00:00:00', 224323, '2021-02-10 00:00:00'),\n",
       " (78467102, '2021-01-14 00:00:00', 3234234, '2021-01-20 00:00:00'),\n",
       " (2940535, '2021-01-09 00:00:00', 224323, '2021-01-22 00:00:00'),\n",
       " (3487440, '2021-01-05 00:00:00', 224323, '2021-01-20 00:00:00'),\n",
       " (50824994, '2021-01-05 00:00:00', 3234234, '2021-02-07 00:00:00'),\n",
       " (24460812, '2021-01-05 00:00:00', 224323, '2021-01-21 00:00:00'),\n",
       " (14329932, '2021-01-08 00:00:00', 3234234, '2021-02-17 00:00:00'),\n",
       " (79649237, '2021-01-20 00:00:00', 3234234, '2021-03-01 00:00:00'),\n",
       " (37553542, '2021-01-20 00:00:00', 224323, '2021-01-28 00:00:00'),\n",
       " (22933321, '2021-01-22 00:00:00', 3234234, '2021-03-03 00:00:00'),\n",
       " (91843031, '2021-01-18 00:00:00', 214321, '2021-02-27 00:00:00'),\n",
       " (67392550, '2021-01-21 00:00:00', 214321, '2021-03-06 00:00:00'),\n",
       " (17823475, '2021-01-11 00:00:00', 3234234, '2021-02-23 00:00:00'),\n",
       " (86391039, '2021-01-26 00:00:00', 224323, '2021-01-31 00:00:00'),\n",
       " (73084883, '2021-01-16 00:00:00', 214321, '2021-02-11 00:00:00'),\n",
       " (13697584, '2021-01-08 00:00:00', 224323, '2021-02-12 00:00:00'),\n",
       " (29214070, '2021-01-20 00:00:00', 214321, '2021-02-28 00:00:00'),\n",
       " (24699141, '2021-01-13 00:00:00', 224323, '2021-02-10 00:00:00'),\n",
       " (73288800, '2021-01-24 00:00:00', 3234234, '2021-02-06 00:00:00'),\n",
       " (85271054, '2021-01-23 00:00:00', 214321, '2021-02-24 00:00:00'),\n",
       " (49791165, '2021-01-29 00:00:00', 214321, '2021-03-19 00:00:00'),\n",
       " (80970351, '2021-01-05 00:00:00', 214321, '2021-02-09 00:00:00'),\n",
       " (61722207, '2021-01-27 00:00:00', 224323, '2021-03-04 00:00:00'),\n",
       " (97051991, '2021-01-28 00:00:00', 224323, '2021-03-16 00:00:00'),\n",
       " (24444694, '2021-01-28 00:00:00', 214321, '2021-02-08 00:00:00'),\n",
       " (98487875, '2021-01-29 00:00:00', 214321, '2021-02-20 00:00:00'),\n",
       " (75377368, '2021-01-26 00:00:00', 214321, '2021-03-03 00:00:00'),\n",
       " (88636541, '2021-01-11 00:00:00', 214321, '2021-02-02 00:00:00'),\n",
       " (12234980, '2021-01-09 00:00:00', 214321, '2021-01-23 00:00:00'),\n",
       " (98487875, '2021-01-12 00:00:00', 214321, '2021-03-01 00:00:00'),\n",
       " (37709588, '2021-01-14 00:00:00', 214321, '2021-02-04 00:00:00'),\n",
       " (41732465, '2021-01-14 00:00:00', 214321, '2021-01-21 00:00:00'),\n",
       " (67523476, '2021-01-01 00:00:00', 224323, '2021-02-12 00:00:00'),\n",
       " (34232401, '2021-01-09 00:00:00', 214321, '2021-01-19 00:00:00'),\n",
       " (19636962, '2021-01-27 00:00:00', 224323, '2021-02-24 00:00:00'),\n",
       " (98912873, '2021-01-21 00:00:00', 214321, '2021-01-27 00:00:00'),\n",
       " (94547712, '2021-01-27 00:00:00', 3234234, '2021-02-16 00:00:00'),\n",
       " (73494342, '2021-01-25 00:00:00', 214321, '2021-02-22 00:00:00')]"
      ]
     },
     "execution_count": 19,
     "metadata": {},
     "output_type": "execute_result"
    }
   ],
   "source": [
    "#   2. covid_19_admission_df\n",
    "\n",
    "c.execute('''DROP TABLE IF EXISTS covid_19_admission''')\n",
    "c.execute(''' CREATE TABLE covid_19_admission (Patient_admitted_id NOT NULL,\n",
    "Date,\n",
    "Hospital_ID,\n",
    "Discharge_date,\n",
    "PRIMARY KEY (Patient_admitted_id),\n",
    "FOREIGN KEY (Hospital_ID) REFERENCES  Hospital_features (Hospital_ID) ON DELETE CASCADE,\n",
    "FOREIGN KEY (Patient_admitted_id) REFERENCES covid_19_death (Patient_admitted_id) ON DELETE CASCADE)''')\n",
    "covid_19_admission_df.to_sql('covid_19_admission', conn, if_exists='append', index = False)\n",
    "c.execute('''SELECT * FROM covid_19_admission''').fetchall()"
   ]
  },
  {
   "cell_type": "code",
   "execution_count": 20,
   "metadata": {},
   "outputs": [
    {
     "data": {
      "text/plain": [
       "[(7801186, 224323, '2021-01-27 00:00:00'),\n",
       " (23388134, 214321, '2021-01-22 00:00:00'),\n",
       " (1122679, 224323, '2021-02-08 00:00:00'),\n",
       " (3487440, 224323, '2021-01-23 00:00:00'),\n",
       " (17823475, 3234234, '2021-01-29 00:00:00')]"
      ]
     },
     "execution_count": 20,
     "metadata": {},
     "output_type": "execute_result"
    }
   ],
   "source": [
    "#   3. covid_19_death_df\n",
    "\n",
    "c.execute('''DROP TABLE IF EXISTS covid_19_death''')\n",
    "c.execute(''' CREATE TABLE covid_19_death (Patient_admitted_id NOT NULL,\n",
    "Hospital_ID,\n",
    "Death_dates,\n",
    "PRIMARY KEY (Patient_admitted_id),\n",
    "FOREIGN KEY (Hospital_ID) REFERENCES  Hospital_features (Hospital_ID) ON DELETE CASCADE)''')\n",
    "covid_19_death_df.to_sql('covid_19_death', conn, if_exists='append', index = False)\n",
    "c.execute('''SELECT * FROM covid_19_death''').fetchall()"
   ]
  },
  {
   "cell_type": "code",
   "execution_count": 21,
   "metadata": {},
   "outputs": [
    {
     "data": {
      "text/plain": [
       "[(214321, 'Chris Martin Hospital', 'SO15 5FL', 100, 300, 10),\n",
       " (224323, 'Alfred Hitchcock Hospital', 'BE01 5SA', 200, 600, 20),\n",
       " (3234234, 'Robin Hood Hospital', 'LO12 8HG', 150, 400, 15)]"
      ]
     },
     "execution_count": 21,
     "metadata": {},
     "output_type": "execute_result"
    }
   ],
   "source": [
    "#   4. Hospital_features_df\n",
    "\n",
    "c.execute('''DROP TABLE IF EXISTS Hospital_features''')\n",
    "c.execute(''' CREATE TABLE Hospital_features ( Hospital_ID NOT NULL PRIMARY KEY,\n",
    "Hospital_name,\n",
    "Hospital_location,\n",
    "Number_of_beds number (3),\n",
    "Number_of_staff number (3),\n",
    "Number_of_ITU_Beds number (3))''')\n",
    "Hospital_features_df.to_sql('Hospital_features', conn, if_exists='append', index = False)\n",
    "c.execute('''SELECT * FROM Hospital_features''').fetchall()"
   ]
  },
  {
   "cell_type": "markdown",
   "metadata": {},
   "source": [
    "## Database created. "
   ]
  },
  {
   "cell_type": "code",
   "execution_count": 22,
   "metadata": {},
   "outputs": [
    {
     "data": {
      "text/plain": [
       "[(0, 'ID', '', 1, None, 1),\n",
       " (1, 'NHS_Number', '', 0, None, 0),\n",
       " (2, 'Full_Name', '', 0, None, 0),\n",
       " (3, 'Gender', '', 0, None, 0),\n",
       " (4, 'Birthdate', '', 0, None, 0),\n",
       " (5, 'Ethnicity', '', 0, None, 0),\n",
       " (6, 'Postcode', '', 0, None, 0)]"
      ]
     },
     "execution_count": 22,
     "metadata": {},
     "output_type": "execute_result"
    }
   ],
   "source": [
    "# Let's ensure everything is ok.\n",
    "# The encoding pragma controls how strings are encoded and stored in a database file.\n",
    "c.execute(\"PRAGMA table_info(patient_data);\").fetchall()\n",
    "# id \tname \ttype \tnotnull \tdflt_value \tpk"
   ]
  },
  {
   "cell_type": "code",
   "execution_count": 23,
   "metadata": {},
   "outputs": [
    {
     "data": {
      "text/plain": [
       "[(0, 'Patient_admitted_id', '', 1, None, 0),\n",
       " (1, 'Date', '', 0, None, 0),\n",
       " (2, 'Hospital_ID', '', 0, None, 0),\n",
       " (3, 'Discharge_date', '', 0, None, 0)]"
      ]
     },
     "execution_count": 23,
     "metadata": {},
     "output_type": "execute_result"
    }
   ],
   "source": [
    "c.execute(\"PRAGMA table_info(covid_19_admission);\").fetchall()"
   ]
  },
  {
   "cell_type": "code",
   "execution_count": 24,
   "metadata": {},
   "outputs": [
    {
     "data": {
      "text/plain": [
       "[(0, 'Patient_admitted_id', '', 1, None, 0),\n",
       " (1, 'Hospital_ID', '', 0, None, 0),\n",
       " (2, 'Death_dates', '', 0, None, 0)]"
      ]
     },
     "execution_count": 24,
     "metadata": {},
     "output_type": "execute_result"
    }
   ],
   "source": [
    "c.execute(\"PRAGMA table_info(covid_19_death);\").fetchall()"
   ]
  },
  {
   "cell_type": "code",
   "execution_count": 25,
   "metadata": {},
   "outputs": [
    {
     "data": {
      "text/plain": [
       "[(0, 'Hospital_ID', '', 1, None, 1),\n",
       " (1, 'Hospital_name', '', 0, None, 0),\n",
       " (2, 'Hospital_location', '', 0, None, 0),\n",
       " (3, 'Number_of_beds', 'number (3)', 0, None, 0),\n",
       " (4, 'Number_of_staff', 'number (3)', 0, None, 0),\n",
       " (5, 'Number_of_ITU_Beds', 'number (3)', 0, None, 0)]"
      ]
     },
     "execution_count": 25,
     "metadata": {},
     "output_type": "execute_result"
    }
   ],
   "source": [
    "c.execute(\"PRAGMA table_info(Hospital_features);\").fetchall()"
   ]
  },
  {
   "cell_type": "markdown",
   "metadata": {},
   "source": [
    "### Notebook details\n",
    "<br>\n",
    "<i>Notebook created by <strong>Manuel Dominguez</strong> \n",
    "\n",
    "Creation date: May 2021<br>\n"
   ]
  },
  {
   "cell_type": "code",
   "execution_count": null,
   "metadata": {},
   "outputs": [],
   "source": []
  },
  {
   "cell_type": "code",
   "execution_count": null,
   "metadata": {},
   "outputs": [],
   "source": []
  },
  {
   "cell_type": "markdown",
   "metadata": {},
   "source": [
    "Code to create the sheme in Database schema "
   ]
  },
  {
   "cell_type": "markdown",
   "metadata": {},
   "source": [
    "//// -- Tables and References\n",
    "\n",
    "// Creating tables\n",
    "Table Patient_data {\n",
    "  id int [pk, increment] // auto-increment\n",
    "  Full_name varchar\n",
    "  NHS_number int\n",
    "  Birthdate int\n",
    "  Gender varchar\n",
    "  Ethnicity varchar\n",
    "  Postcode varchar\n",
    "}\n",
    "\n",
    "Table Covid_19_admission {\n",
    "  Patients_admitted_id int [ref: > Patient_data.id]  // inline relationship (many-to-one)\n",
    "  Date_adm int\n",
    "  Hospital_ID varchar [ref: > Hospital_features.Hospital_ID]\n",
    "  Indexes {\n",
    "    (Patients_admitted_id) [pk]\n",
    "  }\n",
    "}\n",
    "\n",
    "\n",
    "\n",
    "Table Hospital_features {\n",
    " Hospital_ID varchar\n",
    " Hospital_name varchar \n",
    " Hospital_location varchar\n",
    " Number_of_beds varchar\n",
    " Number_of_ITU_beds varchar\n",
    " \n",
    "\n",
    "}\n",
    "\n",
    "\n",
    "\n",
    "Table covid_19_death {\n",
    " Patients_admitted_id  int [ref: > Covid_19_admission.Patients_admitted_id]\n",
    " Hospital_ID varchar [ref: > Hospital_features.Hospital_ID]\n",
    " Death_dates varchar \n",
    " Indexes {\n",
    "    (Patients_admitted_id) [pk]\n",
    "  }\n",
    " \n",
    "\n",
    "}"
   ]
  },
  {
   "cell_type": "code",
   "execution_count": null,
   "metadata": {},
   "outputs": [],
   "source": []
  },
  {
   "cell_type": "code",
   "execution_count": null,
   "metadata": {},
   "outputs": [],
   "source": []
  }
 ],
 "metadata": {
  "kernelspec": {
   "display_name": "Python 3",
   "language": "python",
   "name": "python3"
  },
  "language_info": {
   "codemirror_mode": {
    "name": "ipython",
    "version": 3
   },
   "file_extension": ".py",
   "mimetype": "text/x-python",
   "name": "python",
   "nbconvert_exporter": "python",
   "pygments_lexer": "ipython3",
   "version": "3.8.5"
  }
 },
 "nbformat": 4,
 "nbformat_minor": 5
}
