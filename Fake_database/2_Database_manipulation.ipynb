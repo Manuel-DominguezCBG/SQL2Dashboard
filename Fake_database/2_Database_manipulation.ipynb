{
 "cells": [
  {
   "cell_type": "markdown",
   "metadata": {},
   "source": [
    "# DataBase manipulation\n",
    "****\n",
    "\n",
    "This is a notebook in which I have been getting familiar with the the different commands to manipulate a datababase. \n",
    "<a id=\"top\"></a>\n",
    "\n",
    "<b>Table of contents</b><br>\n",
    "\n",
    "1. [Using basic queries](#basicqueries)\n",
    "\n",
    "2. [Dealing with dates and times](#dates)\n",
    "\n",
    "3. [Object-Relational Mapping](#dates) \n",
    "\n",
    "2.4 [Constraints](#constraints) \n",
    "\n",
    "    \n"
   ]
  },
  {
   "cell_type": "markdown",
   "metadata": {},
   "source": [
    "<a id=\"basicqueries\"></a>\n",
    "\n",
    "### 1.  Basic queries command List \n",
    "\n",
    "        1.1. AND|OR          [x]\n",
    "        1.2. ALTER TABLE\n",
    "        1.3. AS (alias)\n",
    "        1.4. BETWEEN\n",
    "        1.5. CREATE DATABASE [x]\n",
    "        1.6. CREATE TABLE    [x]\n",
    "        1.7. CREATE INDEX\n",
    "        1.8. CREATE VIEW\n",
    "        1.9. DELETE           [x]\n",
    "        1.10. GRANT\n",
    "        1.11. REVOKE\n",
    "        1.12. COMMIT\n",
    "        1.13. ROLLBACK\n",
    "        1.14. SAVEPOINT\n",
    "        1.15. DROP DATABASE\n",
    "        1.16. DROP INDEX\n",
    "        1.17. DROP TABLE       [x]\n",
    "        1.18. EXISTS\n",
    "        1.19. GROUP BY         [x]\n",
    "        1.20. HAVING\n",
    "        1.21. IN               [x]\n",
    "        1.22. INSERT INTO      [x]\n",
    "        1.23. INNER JOIN\n",
    "        1.24. LEFT JOIN\n",
    "        1.25. RIGHT JOIN\n",
    "        1.26. FULL JOIN\n",
    "        1.27. LIKE\n",
    "        1.28. ORDER BY\n",
    "        1.29. SELECT           [x]\n",
    "        1.30. SELECT *         [x]\n",
    "        1.31. SELECT DISTINCT\n",
    "        1.32. SELECT INTO\n",
    "        1.33. SELECT TOP\n",
    "        1.34. TRUNCATE TABLE\n",
    "        1.35. UNION\n",
    "        1.36. UNION ALL\n",
    "        1.37. UPDATE           [x]\n",
    "        1.38. WHERE            [x]\n",
    "        1.39. PRAGMA           [x]\n"
   ]
  },
  {
   "cell_type": "code",
   "execution_count": 2,
   "metadata": {},
   "outputs": [],
   "source": [
    "# Import libraries\n",
    "import pandas as pd\n",
    "from pandas import DataFrame\n",
    "import numpy as np\n",
    "import random\n",
    "import datetime\n",
    "from datetime import timedelta\n",
    "import names                                     # pip install names\n",
    "from faker.providers.person.en import Provider   # pip install faker\n",
    "import sqlite3"
   ]
  },
  {
   "cell_type": "code",
   "execution_count": 3,
   "metadata": {},
   "outputs": [],
   "source": [
    "conn = sqlite3.connect('./fake_db.db')\n",
    "c = conn.cursor()"
   ]
  },
  {
   "cell_type": "code",
   "execution_count": 4,
   "metadata": {},
   "outputs": [
    {
     "ename": "OperationalError",
     "evalue": "no such table: Hospital_features",
     "output_type": "error",
     "traceback": [
      "\u001b[0;31m---------------------------------------------------------------------------\u001b[0m",
      "\u001b[0;31mOperationalError\u001b[0m                          Traceback (most recent call last)",
      "\u001b[0;32m<ipython-input-4-74271faf7113>\u001b[0m in \u001b[0;36m<module>\u001b[0;34m\u001b[0m\n\u001b[1;32m      1\u001b[0m \u001b[0;31m# The most basic thing is to select and view one entire table\u001b[0m\u001b[0;34m\u001b[0m\u001b[0;34m\u001b[0m\u001b[0;34m\u001b[0m\u001b[0m\n\u001b[0;32m----> 2\u001b[0;31m \u001b[0mc\u001b[0m\u001b[0;34m.\u001b[0m\u001b[0mexecute\u001b[0m\u001b[0;34m(\u001b[0m\u001b[0;34m\"SELECT * FROM Hospital_features;\"\u001b[0m\u001b[0;34m)\u001b[0m\u001b[0;34m.\u001b[0m\u001b[0mfetchall\u001b[0m\u001b[0;34m(\u001b[0m\u001b[0;34m)\u001b[0m\u001b[0;34m\u001b[0m\u001b[0;34m\u001b[0m\u001b[0m\n\u001b[0m",
      "\u001b[0;31mOperationalError\u001b[0m: no such table: Hospital_features"
     ]
    }
   ],
   "source": [
    "# The most basic thing is to select and view one entire table\n",
    "c.execute(\"SELECT * FROM Hospital_features;\").fetchall()"
   ]
  },
  {
   "cell_type": "code",
   "execution_count": null,
   "metadata": {},
   "outputs": [],
   "source": [
    "# Now, select one column from a particular table\n",
    "c.execute(\"SELECT Patient_admitted_id FROM covid_19_death;\").fetchall()"
   ]
  },
  {
   "cell_type": "code",
   "execution_count": null,
   "metadata": {},
   "outputs": [],
   "source": [
    "# Can I select more than one column?\n",
    "c.execute(\"SELECT Patient_admitted_id,Hospital_ID FROM covid_19_death;\").fetchall()"
   ]
  },
  {
   "cell_type": "code",
   "execution_count": null,
   "metadata": {},
   "outputs": [],
   "source": [
    "# Two columns with conditions\n",
    "c.execute(\"SELECT NHS_Number, Birthdate FROM patient_data WHERE Postcode = 'SO15 5FL' OR Postcode = 'BE01 5SA';\").fetchall()\n"
   ]
  },
  {
   "cell_type": "code",
   "execution_count": null,
   "metadata": {},
   "outputs": [],
   "source": [
    "# Could I insert a new patient in the patient_data table??\n",
    "# Let's first count how many patient I have before and after insert a new patient\n",
    "\n",
    "c.execute(\"SELECT COUNT(ID) from patient_data ;\").fetchall()"
   ]
  },
  {
   "cell_type": "code",
   "execution_count": null,
   "metadata": {},
   "outputs": [],
   "source": [
    "# I want to be one of the patients of this database\n",
    "c.execute(\"INSERT INTO  patient_data VALUES ('00001','000001', 'Manuel Dominguez','M','1990-04-07','Spanish', 'SO15 10FL');\").fetchall()"
   ]
  },
  {
   "cell_type": "code",
   "execution_count": null,
   "metadata": {},
   "outputs": [],
   "source": [
    "# Count again, now the number must be 2001\n",
    "c.execute(\"SELECT COUNT(ID) from patient_data ;\").fetchall()"
   ]
  },
  {
   "cell_type": "markdown",
   "metadata": {},
   "source": [
    "What if we make a mistake or notice an error in a record? We can use the <code>UPDATE</code> command to change existing data in a table."
   ]
  },
  {
   "cell_type": "code",
   "execution_count": null,
   "metadata": {},
   "outputs": [],
   "source": [
    "c.execute(\"UPDATE patient_data SET 'ID'= '88888' WHERE Full_Name = 'Manuel Dominguez';\").fetchall()"
   ]
  },
  {
   "cell_type": "code",
   "execution_count": null,
   "metadata": {},
   "outputs": [],
   "source": [
    "# Let's see if the new value was introduced\n",
    "c.execute(\"select * FROM patient_data WHERE Full_name = 'Manuel Dominguez';\").fetchall()"
   ]
  },
  {
   "cell_type": "code",
   "execution_count": null,
   "metadata": {},
   "outputs": [],
   "source": [
    "# Another useful thing to be able to do is to delete records from a table.\n",
    "c.execute(\"DELETE FROM patient_data WHERE Full_name = 'Manuel Dominguez';\").fetchall()\n"
   ]
  },
  {
   "cell_type": "code",
   "execution_count": null,
   "metadata": {},
   "outputs": [],
   "source": [
    "c.execute(\"select * FROM patient_data WHERE Full_name = 'Manuel Dominguez';\").fetchall()"
   ]
  },
  {
   "cell_type": "markdown",
   "metadata": {},
   "source": [
    "No show here but I have seen how problematic if 2 or more patients were to have the same name, as these changes would apply to all people who shared the same name. I am wondering how this is solve in real patients database, by ID as a primaru key???\n",
    "\n",
    "After some reading I have fouond that the way to overcome this in relational databases is to give each record a unique id, called a <code>primary key</code>. "
   ]
  },
  {
   "cell_type": "code",
   "execution_count": 5,
   "metadata": {},
   "outputs": [
    {
     "data": {
      "text/plain": [
       "[(0, 'ID', '', 1, None, 1),\n",
       " (1, 'NHS_Number', '', 0, None, 0),\n",
       " (2, 'Full_Name', '', 0, None, 0),\n",
       " (3, 'Gender', '', 0, None, 0),\n",
       " (4, 'Birthdate', '', 0, None, 0),\n",
       " (5, 'Ethnicity', '', 0, None, 0),\n",
       " (6, 'Postcode', '', 0, None, 0)]"
      ]
     },
     "execution_count": 5,
     "metadata": {},
     "output_type": "execute_result"
    }
   ],
   "source": [
    "c.execute(\"PRAGMA table_info(patient_data);\").fetchall()\n",
    "# cid \tname \ttype \tnotnull \tdflt_value \tpk"
   ]
  },
  {
   "cell_type": "markdown",
   "metadata": {},
   "source": [
    "This shows us the field name, data type, if the field can be NULL or not . We can also see any default values that are set and if a field is a primary key (pk) or not. I"
   ]
  },
  {
   "cell_type": "markdown",
   "metadata": {},
   "source": [
    "To create a PRIMARY KEY constraint on the \"ID\" column when patient_data table already exists, I can use the following SQLite syntax."
   ]
  },
  {
   "cell_type": "code",
   "execution_count": 6,
   "metadata": {
    "scrolled": true
   },
   "outputs": [
    {
     "ename": "OperationalError",
     "evalue": "near \"PRIMARY\": syntax error",
     "output_type": "error",
     "traceback": [
      "\u001b[0;31m---------------------------------------------------------------------------\u001b[0m",
      "\u001b[0;31mOperationalError\u001b[0m                          Traceback (most recent call last)",
      "\u001b[0;32m<ipython-input-6-1a0eac26dd2e>\u001b[0m in \u001b[0;36m<module>\u001b[0;34m\u001b[0m\n\u001b[0;32m----> 1\u001b[0;31m \u001b[0mc\u001b[0m\u001b[0;34m.\u001b[0m\u001b[0mexecute\u001b[0m\u001b[0;34m(\u001b[0m\u001b[0;34m\"ALTER TABLE patient_data ADD PRIMARY KEY (ID);\"\u001b[0m\u001b[0;34m)\u001b[0m\u001b[0;34m.\u001b[0m\u001b[0mfetchall\u001b[0m\u001b[0;34m(\u001b[0m\u001b[0;34m)\u001b[0m\u001b[0;34m\u001b[0m\u001b[0;34m\u001b[0m\u001b[0m\n\u001b[0m",
      "\u001b[0;31mOperationalError\u001b[0m: near \"PRIMARY\": syntax error"
     ]
    }
   ],
   "source": [
    "c.execute(\"ALTER TABLE patient_data ADD PRIMARY KEY (ID);\").fetchall()"
   ]
  },
  {
   "cell_type": "markdown",
   "metadata": {},
   "source": [
    "I have just fouond that If your table have data you wish to add a primary key later, you cannot use the ALTER TABLE statement to create a primary key. That is not possible with SQLite. Instead, you must create a new table with the primary key and copy the data into this new table. "
   ]
  },
  {
   "cell_type": "code",
   "execution_count": 7,
   "metadata": {},
   "outputs": [
    {
     "data": {
      "text/plain": [
       "[('Jayla Watsica',),\n",
       " ('Osborn Senger',),\n",
       " ('Brandin Terry',),\n",
       " ('Darwin Corwin',),\n",
       " ('Amari Larson',)]"
      ]
     },
     "execution_count": 7,
     "metadata": {},
     "output_type": "execute_result"
    }
   ],
   "source": [
    "c.execute(\"SELECT Full_Name FROM patient_data GROUP BY Ethnicity;\").fetchall()"
   ]
  },
  {
   "cell_type": "code",
   "execution_count": 8,
   "metadata": {},
   "outputs": [
    {
     "data": {
      "text/plain": [
       "[('Jayla Watsica',),\n",
       " ('Osborn Senger',),\n",
       " ('Brandin Terry',),\n",
       " ('Darwin Corwin',),\n",
       " ('Amari Larson',)]"
      ]
     },
     "execution_count": 8,
     "metadata": {},
     "output_type": "execute_result"
    }
   ],
   "source": [
    "c.execute(\"SELECT Full_Name FROM patient_data GROUP BY Ethnicity;\").fetchall()"
   ]
  },
  {
   "cell_type": "code",
   "execution_count": 11,
   "metadata": {},
   "outputs": [
    {
     "data": {
      "text/plain": [
       "[('Lenord Waelchi', 338171393),\n",
       " ('Ryne Mitchell', 786403777),\n",
       " ('Mack Friesen', 228011564),\n",
       " ('Maryjane Vandervort', 474502595),\n",
       " ('Harriette Daugherty', 801883343),\n",
       " ('Jacqueline Heathcote', 371685650),\n",
       " ('Anona Zboncak', 552424208),\n",
       " ('Rachel Kunze', 598994299),\n",
       " ('Elzy Bosco', 502275903),\n",
       " ('Lennie Collins', 416810429),\n",
       " ('Waino Ernser', 514736804),\n",
       " ('Deborrah Howe', 706036359),\n",
       " ('Cristin Miller', 573637105),\n",
       " ('Giuliana Rowe', 964595556),\n",
       " ('Winfield Ward', 793326617),\n",
       " ('Herbert Dicki', 808592034),\n",
       " ('Attilio Konopelski', 924009744),\n",
       " ('Alesha Howell', 620755640),\n",
       " ('Felton Upton', 446171702),\n",
       " ('Camryn Ernser', 190660292),\n",
       " ('Barb Spencer', 961306947),\n",
       " ('Renita Fay', 715836970),\n",
       " ('Zigmund Von', 619408217),\n",
       " ('Dorris Durgan', 119141523),\n",
       " ('Alesia Carroll', 572766997),\n",
       " ('Christiana Feil', 692186826),\n",
       " ('Kadyn Bartell', 716447149),\n",
       " ('Joshuah Jaskolski', 677755665),\n",
       " ('Nola Deckow', 125869915),\n",
       " ('Jalon Runte', 664323115),\n",
       " ('Romaine Welch', 591452298),\n",
       " ('Jann Schroeder', 500277055),\n",
       " ('Vic Schoen', 747884023),\n",
       " ('Jaleel Rohan', 315918791),\n",
       " ('Janyce Jacobs', 968230102),\n",
       " ('Algot Feil', 866603953),\n",
       " ('Torey Jast', 124810919),\n",
       " ('Rice Barrows', 967353366),\n",
       " ('Jadon Ebert', 978398237),\n",
       " ('Sandy King', 688663595),\n",
       " ('Ahmed Krajcik', 617490329),\n",
       " ('Del Deckow', 858601799),\n",
       " ('Garett Reilly', 442204644),\n",
       " ('Mae Jenkins', 845619690),\n",
       " ('Jaeden Price', 382783384),\n",
       " ('Rashaad Heathcote', 724098547),\n",
       " ('Robb Rogahn', 731713273),\n",
       " ('Treyton Lynch', 948646824),\n",
       " ('Evert Durgan', 405154340),\n",
       " ('Susanna Heidenreich', 887505897),\n",
       " ('Violet Wisozk', 253931531),\n",
       " ('Carroll Haag', 839534980),\n",
       " ('Maddison Douglas', 569574021),\n",
       " ('Averie Abbott', 834357328),\n",
       " ('Zachery Schoen', 250313699),\n",
       " ('Chancy Bins', 918610489),\n",
       " ('Florene Graham', 989345672),\n",
       " ('Corene Emard', 655538413),\n",
       " ('Averi Williamson', 948637372),\n",
       " ('Lea Rath', 394747354),\n",
       " ('Tamiko Little', 682673523),\n",
       " ('Torry Miller', 624431880),\n",
       " ('Torrie Mitchell', 421982587),\n",
       " ('Karrie Kub', 110524479),\n",
       " ('Earnest Fisher', 288781382),\n",
       " ('Betsy Marquardt', 555810762),\n",
       " ('Payton Halvorson', 806434603),\n",
       " ('Ott Kertzmann', 158535288),\n",
       " ('Yaritza Gutmann', 429319853),\n",
       " ('Jenni Mayer', 293931243),\n",
       " ('Latoria Padberg', 405047477),\n",
       " ('Arther Stehr', 323806936),\n",
       " ('Tisha Wilderman', 539618689),\n",
       " ('Leafy McDermott', 485129172),\n",
       " ('Texie Leannon', 119007093),\n",
       " ('Lark Wiza', 426352521),\n",
       " ('Lily Koss', 694600727),\n",
       " ('Kenny Marquardt', 203127913),\n",
       " ('Jamaal Hilpert', 186236444),\n",
       " ('Ciera Hirthe', 808806385),\n",
       " ('Mena Schmeler', 489952888),\n",
       " ('Jayla Klocko', 350731552),\n",
       " ('Williemae Sawayn', 318232492),\n",
       " ('Worley King', 633106933),\n",
       " ('Huldah Kutch', 466894572),\n",
       " ('Katina Pfannerstill', 485830810),\n",
       " ('Eldred Olson', 540115746),\n",
       " ('Zebulon Daugherty', 120521109),\n",
       " ('Vertie Nader', 669209339),\n",
       " ('Kenyon Hand', 875689459),\n",
       " ('Darell Gusikowski', 478477961),\n",
       " ('Florene Graham', 989345672),\n",
       " ('Vanessa Baumbach', 704801368),\n",
       " ('Aliana Goyette', 979866147),\n",
       " ('Cloe Kemmer', 871923897),\n",
       " ('Karim Satterfield', 243266834),\n",
       " ('Cheyanne Lehner', 358524603),\n",
       " ('Bishop Yost', 725400537),\n",
       " ('Arch Schamberger', 213285564),\n",
       " ('Hope Ankunding', 680956453)]"
      ]
     },
     "execution_count": 11,
     "metadata": {},
     "output_type": "execute_result"
    }
   ],
   "source": [
    "# Let's get the name and NHS number of the patients that got COVID-19\n",
    "\n",
    "c.execute(\"SELECT Full_Name, NHS_Number FROM patient_data INNER JOIN covid_19_admission ON covid_19_admission.Patient_admitted_id = patient_data.ID ;\").fetchall()\n",
    "\n"
   ]
  },
  {
   "cell_type": "markdown",
   "metadata": {},
   "source": [
    "### Notebook details\n",
    "<br>\n",
    "<i>Notebook created by <strong>Manuel Dominguez</strong> \n",
    "\n",
    "Creation date: May 2021<br>\n"
   ]
  },
  {
   "cell_type": "code",
   "execution_count": 10,
   "metadata": {},
   "outputs": [
    {
     "data": {
      "text/plain": [
       "[]"
      ]
     },
     "execution_count": 10,
     "metadata": {},
     "output_type": "execute_result"
    }
   ],
   "source": [
    "c.execute(\"SELECT * FROM covid_19_admission;\").fetchall()"
   ]
  },
  {
   "cell_type": "code",
   "execution_count": null,
   "metadata": {},
   "outputs": [],
   "source": []
  },
  {
   "cell_type": "code",
   "execution_count": null,
   "metadata": {},
   "outputs": [],
   "source": []
  },
  {
   "cell_type": "code",
   "execution_count": null,
   "metadata": {},
   "outputs": [],
   "source": []
  },
  {
   "cell_type": "code",
   "execution_count": null,
   "metadata": {},
   "outputs": [],
   "source": []
  }
 ],
 "metadata": {
  "kernelspec": {
   "display_name": "Python 3",
   "language": "python",
   "name": "python3"
  },
  "language_info": {
   "codemirror_mode": {
    "name": "ipython",
    "version": 3
   },
   "file_extension": ".py",
   "mimetype": "text/x-python",
   "name": "python",
   "nbconvert_exporter": "python",
   "pygments_lexer": "ipython3",
   "version": "3.8.5"
  }
 },
 "nbformat": 4,
 "nbformat_minor": 4
}
